{
 "cells": [
  {
   "cell_type": "code",
   "metadata": {
    "ExecuteTime": {
     "end_time": "2024-08-05T09:38:33.561637Z",
     "start_time": "2024-08-05T09:38:33.489307Z"
    }
   },
   "source": [
    "import pandas as pd\n",
    "import numpy as np\n",
    "import matplotlib.pyplot as plt\n",
    "import seaborn as sns\n",
    "import plotly.express as px\n",
    "from pathlib import Path"
   ],
   "outputs": [],
   "execution_count": 1
  },
  {
   "metadata": {
    "ExecuteTime": {
     "end_time": "2024-08-05T09:38:33.564500Z",
     "start_time": "2024-08-05T09:38:33.562642Z"
    }
   },
   "cell_type": "code",
   "source": "",
   "outputs": [],
   "execution_count": 1
  },
  {
   "cell_type": "markdown",
   "metadata": {},
   "source": " # path"
  },
  {
   "cell_type": "code",
   "metadata": {
    "ExecuteTime": {
     "end_time": "2024-08-05T09:38:36.556901Z",
     "start_time": "2024-08-05T09:38:36.552179Z"
    }
   },
   "source": [
    "world_ranking_path  = Path.cwd().parent / \"data\" /\"fifa_ranking_2022-10-06 - fifa_ranking_2022-10-06.csv\"\n",
    "world_match_path  = Path.cwd().parent / \"data\" /\"matches_1930_2022 - matches_1930_2022.csv\"\n",
    "world_cup_path   = Path.cwd().parent / \"data\" /\"world_cup - world_cup.csv\""
   ],
   "outputs": [],
   "execution_count": 2
  },
  {
   "cell_type": "code",
   "metadata": {
    "ExecuteTime": {
     "end_time": "2024-08-05T09:38:37.291695Z",
     "start_time": "2024-08-05T09:38:37.236042Z"
    }
   },
   "source": [
    "ranking = pd.read_csv(world_ranking_path)\n",
    "cupes = pd.read_csv(world_cup_path)\n",
    "matches = pd.read_csv(world_match_path)"
   ],
   "outputs": [],
   "execution_count": 3
  },
  {
   "cell_type": "code",
   "metadata": {
    "ExecuteTime": {
     "end_time": "2024-08-05T09:38:37.525085Z",
     "start_time": "2024-08-05T09:38:37.522076Z"
    }
   },
   "source": " ",
   "outputs": [],
   "execution_count": 3
  },
  {
   "cell_type": "code",
   "metadata": {
    "ExecuteTime": {
     "end_time": "2024-08-05T09:38:37.761026Z",
     "start_time": "2024-08-05T09:38:37.745712Z"
    }
   },
   "source": [
    "cupes"
   ],
   "outputs": [
    {
     "data": {
      "text/plain": [
       "    Year                   Host  Teams      Champion       Runner-Up  \\\n",
       "0   2022                  Qatar     32     Argentina          France   \n",
       "1   2018                 Russia     32        France         Croatia   \n",
       "2   2014                 Brazil     32       Germany       Argentina   \n",
       "3   2010           South Africa     32         Spain     Netherlands   \n",
       "4   2006                Germany     32         Italy          France   \n",
       "5   2002  Korea Republic, Japan     32        Brazil         Germany   \n",
       "6   1998                 France     32        France          Brazil   \n",
       "7   1994          United States     24        Brazil           Italy   \n",
       "8   1990                  Italy     24  West Germany       Argentina   \n",
       "9   1986                 Mexico     24     Argentina    West Germany   \n",
       "10  1982                  Spain     24         Italy    West Germany   \n",
       "11  1978              Argentina     16     Argentina     Netherlands   \n",
       "12  1974                Germany     16  West Germany     Netherlands   \n",
       "13  1970                 Mexico     16        Brazil           Italy   \n",
       "14  1966                England     16       England    West Germany   \n",
       "15  1962                  Chile     16        Brazil  Czechoslovakia   \n",
       "16  1958                 Sweden     16        Brazil          Sweden   \n",
       "17  1954            Switzerland     16       Germany         Hungary   \n",
       "18  1950                 Brazil     15       Uruguay          Brazil   \n",
       "19  1938                 France     16         Italy         Hungary   \n",
       "20  1934                  Italy     16         Italy  Czechoslovakia   \n",
       "21  1930                Uruguay     13       Uruguay       Argentina   \n",
       "\n",
       "                               TopScorrer  Attendance  AttendanceAvg  Matches  \n",
       "0                       Kylian Mbappé - 8     3404252          53191       64  \n",
       "1                          Harry Kane - 6     3031768          47371       64  \n",
       "2                     James Rodríguez - 6     3429873          53592       64  \n",
       "3   Wesley Sneijder, Thomas Müller... - 5     3178856          49670       64  \n",
       "4                      Miroslav Klose - 5     3352605          52384       64  \n",
       "5                             Ronaldo - 8     2705337          42271       64  \n",
       "6                         Davor Šuker - 6     2903477          45367       64  \n",
       "7      Hristo Stoichkov, Oleg Salenko - 6     3587538          68991       52  \n",
       "8                 Salvatore Schillaci - 6     2516215          48389       52  \n",
       "9                        Gary Lineker - 6     2394031          46039       52  \n",
       "10                        Paolo Rossi - 6     2109723          40572       52  \n",
       "11                       Mario Kempes - 6     1545791          40679       38  \n",
       "12                      Grzegorz Lato - 7     1865753          49099       38  \n",
       "13                       Gerd Müller - 10     1603975          50124       32  \n",
       "14                            Eusébio - 9     1563135          48848       32  \n",
       "15  Leonel Sánchez, Flórián Albert... - 4      893172          27912       32  \n",
       "16                     Just Fontaine - 13      819810          23423       35  \n",
       "17                     Sándor Kocsis - 11      768607          29562       26  \n",
       "18                             Ademir - 8     1045246          47511       22  \n",
       "19                           Leônidas - 7      375700          20872       18  \n",
       "20                    Oldřich Nejedlý - 5      363000          21353       17  \n",
       "21                  Guillermo Stábile - 8      590549          32808       18  "
      ],
      "text/html": [
       "<div>\n",
       "<style scoped>\n",
       "    .dataframe tbody tr th:only-of-type {\n",
       "        vertical-align: middle;\n",
       "    }\n",
       "\n",
       "    .dataframe tbody tr th {\n",
       "        vertical-align: top;\n",
       "    }\n",
       "\n",
       "    .dataframe thead th {\n",
       "        text-align: right;\n",
       "    }\n",
       "</style>\n",
       "<table border=\"1\" class=\"dataframe\">\n",
       "  <thead>\n",
       "    <tr style=\"text-align: right;\">\n",
       "      <th></th>\n",
       "      <th>Year</th>\n",
       "      <th>Host</th>\n",
       "      <th>Teams</th>\n",
       "      <th>Champion</th>\n",
       "      <th>Runner-Up</th>\n",
       "      <th>TopScorrer</th>\n",
       "      <th>Attendance</th>\n",
       "      <th>AttendanceAvg</th>\n",
       "      <th>Matches</th>\n",
       "    </tr>\n",
       "  </thead>\n",
       "  <tbody>\n",
       "    <tr>\n",
       "      <th>0</th>\n",
       "      <td>2022</td>\n",
       "      <td>Qatar</td>\n",
       "      <td>32</td>\n",
       "      <td>Argentina</td>\n",
       "      <td>France</td>\n",
       "      <td>Kylian Mbappé - 8</td>\n",
       "      <td>3404252</td>\n",
       "      <td>53191</td>\n",
       "      <td>64</td>\n",
       "    </tr>\n",
       "    <tr>\n",
       "      <th>1</th>\n",
       "      <td>2018</td>\n",
       "      <td>Russia</td>\n",
       "      <td>32</td>\n",
       "      <td>France</td>\n",
       "      <td>Croatia</td>\n",
       "      <td>Harry Kane - 6</td>\n",
       "      <td>3031768</td>\n",
       "      <td>47371</td>\n",
       "      <td>64</td>\n",
       "    </tr>\n",
       "    <tr>\n",
       "      <th>2</th>\n",
       "      <td>2014</td>\n",
       "      <td>Brazil</td>\n",
       "      <td>32</td>\n",
       "      <td>Germany</td>\n",
       "      <td>Argentina</td>\n",
       "      <td>James Rodríguez - 6</td>\n",
       "      <td>3429873</td>\n",
       "      <td>53592</td>\n",
       "      <td>64</td>\n",
       "    </tr>\n",
       "    <tr>\n",
       "      <th>3</th>\n",
       "      <td>2010</td>\n",
       "      <td>South Africa</td>\n",
       "      <td>32</td>\n",
       "      <td>Spain</td>\n",
       "      <td>Netherlands</td>\n",
       "      <td>Wesley Sneijder, Thomas Müller... - 5</td>\n",
       "      <td>3178856</td>\n",
       "      <td>49670</td>\n",
       "      <td>64</td>\n",
       "    </tr>\n",
       "    <tr>\n",
       "      <th>4</th>\n",
       "      <td>2006</td>\n",
       "      <td>Germany</td>\n",
       "      <td>32</td>\n",
       "      <td>Italy</td>\n",
       "      <td>France</td>\n",
       "      <td>Miroslav Klose - 5</td>\n",
       "      <td>3352605</td>\n",
       "      <td>52384</td>\n",
       "      <td>64</td>\n",
       "    </tr>\n",
       "    <tr>\n",
       "      <th>5</th>\n",
       "      <td>2002</td>\n",
       "      <td>Korea Republic, Japan</td>\n",
       "      <td>32</td>\n",
       "      <td>Brazil</td>\n",
       "      <td>Germany</td>\n",
       "      <td>Ronaldo - 8</td>\n",
       "      <td>2705337</td>\n",
       "      <td>42271</td>\n",
       "      <td>64</td>\n",
       "    </tr>\n",
       "    <tr>\n",
       "      <th>6</th>\n",
       "      <td>1998</td>\n",
       "      <td>France</td>\n",
       "      <td>32</td>\n",
       "      <td>France</td>\n",
       "      <td>Brazil</td>\n",
       "      <td>Davor Šuker - 6</td>\n",
       "      <td>2903477</td>\n",
       "      <td>45367</td>\n",
       "      <td>64</td>\n",
       "    </tr>\n",
       "    <tr>\n",
       "      <th>7</th>\n",
       "      <td>1994</td>\n",
       "      <td>United States</td>\n",
       "      <td>24</td>\n",
       "      <td>Brazil</td>\n",
       "      <td>Italy</td>\n",
       "      <td>Hristo Stoichkov, Oleg Salenko - 6</td>\n",
       "      <td>3587538</td>\n",
       "      <td>68991</td>\n",
       "      <td>52</td>\n",
       "    </tr>\n",
       "    <tr>\n",
       "      <th>8</th>\n",
       "      <td>1990</td>\n",
       "      <td>Italy</td>\n",
       "      <td>24</td>\n",
       "      <td>West Germany</td>\n",
       "      <td>Argentina</td>\n",
       "      <td>Salvatore Schillaci - 6</td>\n",
       "      <td>2516215</td>\n",
       "      <td>48389</td>\n",
       "      <td>52</td>\n",
       "    </tr>\n",
       "    <tr>\n",
       "      <th>9</th>\n",
       "      <td>1986</td>\n",
       "      <td>Mexico</td>\n",
       "      <td>24</td>\n",
       "      <td>Argentina</td>\n",
       "      <td>West Germany</td>\n",
       "      <td>Gary Lineker - 6</td>\n",
       "      <td>2394031</td>\n",
       "      <td>46039</td>\n",
       "      <td>52</td>\n",
       "    </tr>\n",
       "    <tr>\n",
       "      <th>10</th>\n",
       "      <td>1982</td>\n",
       "      <td>Spain</td>\n",
       "      <td>24</td>\n",
       "      <td>Italy</td>\n",
       "      <td>West Germany</td>\n",
       "      <td>Paolo Rossi - 6</td>\n",
       "      <td>2109723</td>\n",
       "      <td>40572</td>\n",
       "      <td>52</td>\n",
       "    </tr>\n",
       "    <tr>\n",
       "      <th>11</th>\n",
       "      <td>1978</td>\n",
       "      <td>Argentina</td>\n",
       "      <td>16</td>\n",
       "      <td>Argentina</td>\n",
       "      <td>Netherlands</td>\n",
       "      <td>Mario Kempes - 6</td>\n",
       "      <td>1545791</td>\n",
       "      <td>40679</td>\n",
       "      <td>38</td>\n",
       "    </tr>\n",
       "    <tr>\n",
       "      <th>12</th>\n",
       "      <td>1974</td>\n",
       "      <td>Germany</td>\n",
       "      <td>16</td>\n",
       "      <td>West Germany</td>\n",
       "      <td>Netherlands</td>\n",
       "      <td>Grzegorz Lato - 7</td>\n",
       "      <td>1865753</td>\n",
       "      <td>49099</td>\n",
       "      <td>38</td>\n",
       "    </tr>\n",
       "    <tr>\n",
       "      <th>13</th>\n",
       "      <td>1970</td>\n",
       "      <td>Mexico</td>\n",
       "      <td>16</td>\n",
       "      <td>Brazil</td>\n",
       "      <td>Italy</td>\n",
       "      <td>Gerd Müller - 10</td>\n",
       "      <td>1603975</td>\n",
       "      <td>50124</td>\n",
       "      <td>32</td>\n",
       "    </tr>\n",
       "    <tr>\n",
       "      <th>14</th>\n",
       "      <td>1966</td>\n",
       "      <td>England</td>\n",
       "      <td>16</td>\n",
       "      <td>England</td>\n",
       "      <td>West Germany</td>\n",
       "      <td>Eusébio - 9</td>\n",
       "      <td>1563135</td>\n",
       "      <td>48848</td>\n",
       "      <td>32</td>\n",
       "    </tr>\n",
       "    <tr>\n",
       "      <th>15</th>\n",
       "      <td>1962</td>\n",
       "      <td>Chile</td>\n",
       "      <td>16</td>\n",
       "      <td>Brazil</td>\n",
       "      <td>Czechoslovakia</td>\n",
       "      <td>Leonel Sánchez, Flórián Albert... - 4</td>\n",
       "      <td>893172</td>\n",
       "      <td>27912</td>\n",
       "      <td>32</td>\n",
       "    </tr>\n",
       "    <tr>\n",
       "      <th>16</th>\n",
       "      <td>1958</td>\n",
       "      <td>Sweden</td>\n",
       "      <td>16</td>\n",
       "      <td>Brazil</td>\n",
       "      <td>Sweden</td>\n",
       "      <td>Just Fontaine - 13</td>\n",
       "      <td>819810</td>\n",
       "      <td>23423</td>\n",
       "      <td>35</td>\n",
       "    </tr>\n",
       "    <tr>\n",
       "      <th>17</th>\n",
       "      <td>1954</td>\n",
       "      <td>Switzerland</td>\n",
       "      <td>16</td>\n",
       "      <td>Germany</td>\n",
       "      <td>Hungary</td>\n",
       "      <td>Sándor Kocsis - 11</td>\n",
       "      <td>768607</td>\n",
       "      <td>29562</td>\n",
       "      <td>26</td>\n",
       "    </tr>\n",
       "    <tr>\n",
       "      <th>18</th>\n",
       "      <td>1950</td>\n",
       "      <td>Brazil</td>\n",
       "      <td>15</td>\n",
       "      <td>Uruguay</td>\n",
       "      <td>Brazil</td>\n",
       "      <td>Ademir - 8</td>\n",
       "      <td>1045246</td>\n",
       "      <td>47511</td>\n",
       "      <td>22</td>\n",
       "    </tr>\n",
       "    <tr>\n",
       "      <th>19</th>\n",
       "      <td>1938</td>\n",
       "      <td>France</td>\n",
       "      <td>16</td>\n",
       "      <td>Italy</td>\n",
       "      <td>Hungary</td>\n",
       "      <td>Leônidas - 7</td>\n",
       "      <td>375700</td>\n",
       "      <td>20872</td>\n",
       "      <td>18</td>\n",
       "    </tr>\n",
       "    <tr>\n",
       "      <th>20</th>\n",
       "      <td>1934</td>\n",
       "      <td>Italy</td>\n",
       "      <td>16</td>\n",
       "      <td>Italy</td>\n",
       "      <td>Czechoslovakia</td>\n",
       "      <td>Oldřich Nejedlý - 5</td>\n",
       "      <td>363000</td>\n",
       "      <td>21353</td>\n",
       "      <td>17</td>\n",
       "    </tr>\n",
       "    <tr>\n",
       "      <th>21</th>\n",
       "      <td>1930</td>\n",
       "      <td>Uruguay</td>\n",
       "      <td>13</td>\n",
       "      <td>Uruguay</td>\n",
       "      <td>Argentina</td>\n",
       "      <td>Guillermo Stábile - 8</td>\n",
       "      <td>590549</td>\n",
       "      <td>32808</td>\n",
       "      <td>18</td>\n",
       "    </tr>\n",
       "  </tbody>\n",
       "</table>\n",
       "</div>"
      ]
     },
     "execution_count": 4,
     "metadata": {},
     "output_type": "execute_result"
    }
   ],
   "execution_count": 4
  },
  {
   "cell_type": "code",
   "metadata": {
    "ExecuteTime": {
     "end_time": "2024-08-05T09:38:38.188898Z",
     "start_time": "2024-08-05T09:38:38.171934Z"
    }
   },
   "source": "matches",
   "outputs": [
    {
     "data": {
      "text/plain": [
       "         home_team away_team  home_score  home_xg  home_penalty  away_score  \\\n",
       "0        Argentina    France           3      3.3           4.0           3   \n",
       "1          Croatia   Morocco           2      0.7           NaN           1   \n",
       "2           France   Morocco           2      2.0           NaN           0   \n",
       "3        Argentina   Croatia           3      2.3           NaN           0   \n",
       "4          Morocco  Portugal           1      1.4           NaN           0   \n",
       "..             ...       ...         ...      ...           ...         ...   \n",
       "959      Argentina    France           1      NaN           NaN           0   \n",
       "960     Yugoslavia    Brazil           2      NaN           NaN           1   \n",
       "961        Romania      Peru           3      NaN           NaN           1   \n",
       "962  United States   Belgium           3      NaN           NaN           0   \n",
       "963         France    Mexico           4      NaN           NaN           1   \n",
       "\n",
       "     away_xg  away_penalty      home_manager          home_captain  ...  \\\n",
       "0        2.2           2.0    Lionel Scaloni          Lionel Messi  ...   \n",
       "1        1.2           NaN      Zlatko Dalić           Luka Modrić  ...   \n",
       "2        0.9           NaN  Didier Deschamps           Hugo Lloris  ...   \n",
       "3        0.5           NaN    Lionel Scaloni          Lionel Messi  ...   \n",
       "4        0.9           NaN   Hoalid Regragui          Romain Saïss  ...   \n",
       "..       ...           ...               ...                   ...  ...   \n",
       "959      NaN           NaN  Francisco Olazar       Manuel Ferreira  ...   \n",
       "960      NaN           NaN   Bosko Simonovic       Milutin Ivković  ...   \n",
       "961      NaN           NaN     Octav Luchide          Emerich Vogl  ...   \n",
       "962      NaN           NaN        Bob Millar            Tom Florie  ...   \n",
       "963      NaN           NaN     Raoul Caudron  Alexandre Villaplane  ...   \n",
       "\n",
       "    home_penalty_shootout_miss_long  \\\n",
       "0                               NaN   \n",
       "1                               NaN   \n",
       "2                               NaN   \n",
       "3                               NaN   \n",
       "4                               NaN   \n",
       "..                              ...   \n",
       "959                             NaN   \n",
       "960                             NaN   \n",
       "961                             NaN   \n",
       "962                             NaN   \n",
       "963                             NaN   \n",
       "\n",
       "                       away_penalty_shootout_miss_long  home_red_card  \\\n",
       "0    ['3|1:1|Kingsley Coman', '5|2:1|Aurélien Tchou...            NaN   \n",
       "1                                                  NaN            NaN   \n",
       "2                                                  NaN            NaN   \n",
       "3                                                  NaN            NaN   \n",
       "4                                                  NaN            NaN   \n",
       "..                                                 ...            ...   \n",
       "959                                                NaN            NaN   \n",
       "960                                                NaN            NaN   \n",
       "961                                                NaN            NaN   \n",
       "962                                                NaN            NaN   \n",
       "963                                                NaN            NaN   \n",
       "\n",
       "            away_red_card   home_yellow_red_card away_yellow_red_card  \\\n",
       "0                     NaN                    NaN                  NaN   \n",
       "1                     NaN                    NaN                  NaN   \n",
       "2                     NaN                    NaN                  NaN   \n",
       "3                     NaN                    NaN                  NaN   \n",
       "4                     NaN  Walid Cheddira · 90+3                  NaN   \n",
       "..                    ...                    ...                  ...   \n",
       "959                   NaN                    NaN                  NaN   \n",
       "960                   NaN                    NaN                  NaN   \n",
       "961  Plácido Galindo · 70                    NaN                  NaN   \n",
       "962                   NaN                    NaN                  NaN   \n",
       "963                   NaN                    NaN                  NaN   \n",
       "\n",
       "                                 home_yellow_card_long  \\\n",
       "0    ['45+7&rsquor;|2:0|Enzo Fernández', '90+8&rsqu...   \n",
       "1                                                  NaN   \n",
       "2                                                  NaN   \n",
       "3    ['68&rsquor;|2:0|Cristian Romero', '71&rsquor;...   \n",
       "4    ['70&rsquor;|1:0|Achraf Dari', '90+1&rsquor;|1...   \n",
       "..                                                 ...   \n",
       "959                                                NaN   \n",
       "960                                                NaN   \n",
       "961                                                NaN   \n",
       "962                                                NaN   \n",
       "963                                                NaN   \n",
       "\n",
       "                                 away_yellow_card_long  \\\n",
       "0    ['55&rsquor;|2:0|Adrien Rabiot', '87&rsquor;|2...   \n",
       "1    ['69&rsquor;|2:1|Azzedine Ounahi', '84&rsquor;...   \n",
       "2                    ['27&rsquor;|1:0|Sofiane Boufal']   \n",
       "3    ['32&rsquor;|0:0|Mateo Kovačić', '32&rsquor;|0...   \n",
       "4                           ['87&rsquor;|1:0|Vitinha']   \n",
       "..                                                 ...   \n",
       "959                                                NaN   \n",
       "960                                                NaN   \n",
       "961                                                NaN   \n",
       "962                                                NaN   \n",
       "963                                                NaN   \n",
       "\n",
       "                               home_substitute_in_long  \\\n",
       "0    ['64&rsquor;|2:0|Marcos Acuña|for Ángel Di Mar...   \n",
       "1    ['61&rsquor;|2:1|Nikola Vlašić|for Andrej Kram...   \n",
       "2    ['65&rsquor;|1:0|Marcus Thuram|for Olivier Gir...   \n",
       "3    ['62&rsquor;|2:0|Lisandro Martínez|for Leandro...   \n",
       "4    ['57&rsquor;|1:0|Achraf Dari|for Romain Saïss'...   \n",
       "..                                                 ...   \n",
       "959                                                NaN   \n",
       "960                                                NaN   \n",
       "961                                                NaN   \n",
       "962                                                NaN   \n",
       "963                                                NaN   \n",
       "\n",
       "                               away_substitute_in_long  \n",
       "0    ['41&rsquor;|2:0|Randal Kolo Muani|for Ousmane...  \n",
       "1    ['46&rsquor;|2:1|Ilias Chair|for Abdelhamid Sa...  \n",
       "2    ['21&rsquor;|1:0|Selim Amallah|for Romain Saïs...  \n",
       "3    ['46&rsquor;|2:0|Mislav Oršić|for Borna Sosa',...  \n",
       "4    ['51&rsquor;|1:0|João Cancelo|for Raphaël Guer...  \n",
       "..                                                 ...  \n",
       "959                                                NaN  \n",
       "960                                                NaN  \n",
       "961                                                NaN  \n",
       "962                                                NaN  \n",
       "963                                                NaN  \n",
       "\n",
       "[964 rows x 44 columns]"
      ],
      "text/html": [
       "<div>\n",
       "<style scoped>\n",
       "    .dataframe tbody tr th:only-of-type {\n",
       "        vertical-align: middle;\n",
       "    }\n",
       "\n",
       "    .dataframe tbody tr th {\n",
       "        vertical-align: top;\n",
       "    }\n",
       "\n",
       "    .dataframe thead th {\n",
       "        text-align: right;\n",
       "    }\n",
       "</style>\n",
       "<table border=\"1\" class=\"dataframe\">\n",
       "  <thead>\n",
       "    <tr style=\"text-align: right;\">\n",
       "      <th></th>\n",
       "      <th>home_team</th>\n",
       "      <th>away_team</th>\n",
       "      <th>home_score</th>\n",
       "      <th>home_xg</th>\n",
       "      <th>home_penalty</th>\n",
       "      <th>away_score</th>\n",
       "      <th>away_xg</th>\n",
       "      <th>away_penalty</th>\n",
       "      <th>home_manager</th>\n",
       "      <th>home_captain</th>\n",
       "      <th>...</th>\n",
       "      <th>home_penalty_shootout_miss_long</th>\n",
       "      <th>away_penalty_shootout_miss_long</th>\n",
       "      <th>home_red_card</th>\n",
       "      <th>away_red_card</th>\n",
       "      <th>home_yellow_red_card</th>\n",
       "      <th>away_yellow_red_card</th>\n",
       "      <th>home_yellow_card_long</th>\n",
       "      <th>away_yellow_card_long</th>\n",
       "      <th>home_substitute_in_long</th>\n",
       "      <th>away_substitute_in_long</th>\n",
       "    </tr>\n",
       "  </thead>\n",
       "  <tbody>\n",
       "    <tr>\n",
       "      <th>0</th>\n",
       "      <td>Argentina</td>\n",
       "      <td>France</td>\n",
       "      <td>3</td>\n",
       "      <td>3.3</td>\n",
       "      <td>4.0</td>\n",
       "      <td>3</td>\n",
       "      <td>2.2</td>\n",
       "      <td>2.0</td>\n",
       "      <td>Lionel Scaloni</td>\n",
       "      <td>Lionel Messi</td>\n",
       "      <td>...</td>\n",
       "      <td>NaN</td>\n",
       "      <td>['3|1:1|Kingsley Coman', '5|2:1|Aurélien Tchou...</td>\n",
       "      <td>NaN</td>\n",
       "      <td>NaN</td>\n",
       "      <td>NaN</td>\n",
       "      <td>NaN</td>\n",
       "      <td>['45+7&amp;rsquor;|2:0|Enzo Fernández', '90+8&amp;rsqu...</td>\n",
       "      <td>['55&amp;rsquor;|2:0|Adrien Rabiot', '87&amp;rsquor;|2...</td>\n",
       "      <td>['64&amp;rsquor;|2:0|Marcos Acuña|for Ángel Di Mar...</td>\n",
       "      <td>['41&amp;rsquor;|2:0|Randal Kolo Muani|for Ousmane...</td>\n",
       "    </tr>\n",
       "    <tr>\n",
       "      <th>1</th>\n",
       "      <td>Croatia</td>\n",
       "      <td>Morocco</td>\n",
       "      <td>2</td>\n",
       "      <td>0.7</td>\n",
       "      <td>NaN</td>\n",
       "      <td>1</td>\n",
       "      <td>1.2</td>\n",
       "      <td>NaN</td>\n",
       "      <td>Zlatko Dalić</td>\n",
       "      <td>Luka Modrić</td>\n",
       "      <td>...</td>\n",
       "      <td>NaN</td>\n",
       "      <td>NaN</td>\n",
       "      <td>NaN</td>\n",
       "      <td>NaN</td>\n",
       "      <td>NaN</td>\n",
       "      <td>NaN</td>\n",
       "      <td>NaN</td>\n",
       "      <td>['69&amp;rsquor;|2:1|Azzedine Ounahi', '84&amp;rsquor;...</td>\n",
       "      <td>['61&amp;rsquor;|2:1|Nikola Vlašić|for Andrej Kram...</td>\n",
       "      <td>['46&amp;rsquor;|2:1|Ilias Chair|for Abdelhamid Sa...</td>\n",
       "    </tr>\n",
       "    <tr>\n",
       "      <th>2</th>\n",
       "      <td>France</td>\n",
       "      <td>Morocco</td>\n",
       "      <td>2</td>\n",
       "      <td>2.0</td>\n",
       "      <td>NaN</td>\n",
       "      <td>0</td>\n",
       "      <td>0.9</td>\n",
       "      <td>NaN</td>\n",
       "      <td>Didier Deschamps</td>\n",
       "      <td>Hugo Lloris</td>\n",
       "      <td>...</td>\n",
       "      <td>NaN</td>\n",
       "      <td>NaN</td>\n",
       "      <td>NaN</td>\n",
       "      <td>NaN</td>\n",
       "      <td>NaN</td>\n",
       "      <td>NaN</td>\n",
       "      <td>NaN</td>\n",
       "      <td>['27&amp;rsquor;|1:0|Sofiane Boufal']</td>\n",
       "      <td>['65&amp;rsquor;|1:0|Marcus Thuram|for Olivier Gir...</td>\n",
       "      <td>['21&amp;rsquor;|1:0|Selim Amallah|for Romain Saïs...</td>\n",
       "    </tr>\n",
       "    <tr>\n",
       "      <th>3</th>\n",
       "      <td>Argentina</td>\n",
       "      <td>Croatia</td>\n",
       "      <td>3</td>\n",
       "      <td>2.3</td>\n",
       "      <td>NaN</td>\n",
       "      <td>0</td>\n",
       "      <td>0.5</td>\n",
       "      <td>NaN</td>\n",
       "      <td>Lionel Scaloni</td>\n",
       "      <td>Lionel Messi</td>\n",
       "      <td>...</td>\n",
       "      <td>NaN</td>\n",
       "      <td>NaN</td>\n",
       "      <td>NaN</td>\n",
       "      <td>NaN</td>\n",
       "      <td>NaN</td>\n",
       "      <td>NaN</td>\n",
       "      <td>['68&amp;rsquor;|2:0|Cristian Romero', '71&amp;rsquor;...</td>\n",
       "      <td>['32&amp;rsquor;|0:0|Mateo Kovačić', '32&amp;rsquor;|0...</td>\n",
       "      <td>['62&amp;rsquor;|2:0|Lisandro Martínez|for Leandro...</td>\n",
       "      <td>['46&amp;rsquor;|2:0|Mislav Oršić|for Borna Sosa',...</td>\n",
       "    </tr>\n",
       "    <tr>\n",
       "      <th>4</th>\n",
       "      <td>Morocco</td>\n",
       "      <td>Portugal</td>\n",
       "      <td>1</td>\n",
       "      <td>1.4</td>\n",
       "      <td>NaN</td>\n",
       "      <td>0</td>\n",
       "      <td>0.9</td>\n",
       "      <td>NaN</td>\n",
       "      <td>Hoalid Regragui</td>\n",
       "      <td>Romain Saïss</td>\n",
       "      <td>...</td>\n",
       "      <td>NaN</td>\n",
       "      <td>NaN</td>\n",
       "      <td>NaN</td>\n",
       "      <td>NaN</td>\n",
       "      <td>Walid Cheddira · 90+3</td>\n",
       "      <td>NaN</td>\n",
       "      <td>['70&amp;rsquor;|1:0|Achraf Dari', '90+1&amp;rsquor;|1...</td>\n",
       "      <td>['87&amp;rsquor;|1:0|Vitinha']</td>\n",
       "      <td>['57&amp;rsquor;|1:0|Achraf Dari|for Romain Saïss'...</td>\n",
       "      <td>['51&amp;rsquor;|1:0|João Cancelo|for Raphaël Guer...</td>\n",
       "    </tr>\n",
       "    <tr>\n",
       "      <th>...</th>\n",
       "      <td>...</td>\n",
       "      <td>...</td>\n",
       "      <td>...</td>\n",
       "      <td>...</td>\n",
       "      <td>...</td>\n",
       "      <td>...</td>\n",
       "      <td>...</td>\n",
       "      <td>...</td>\n",
       "      <td>...</td>\n",
       "      <td>...</td>\n",
       "      <td>...</td>\n",
       "      <td>...</td>\n",
       "      <td>...</td>\n",
       "      <td>...</td>\n",
       "      <td>...</td>\n",
       "      <td>...</td>\n",
       "      <td>...</td>\n",
       "      <td>...</td>\n",
       "      <td>...</td>\n",
       "      <td>...</td>\n",
       "      <td>...</td>\n",
       "    </tr>\n",
       "    <tr>\n",
       "      <th>959</th>\n",
       "      <td>Argentina</td>\n",
       "      <td>France</td>\n",
       "      <td>1</td>\n",
       "      <td>NaN</td>\n",
       "      <td>NaN</td>\n",
       "      <td>0</td>\n",
       "      <td>NaN</td>\n",
       "      <td>NaN</td>\n",
       "      <td>Francisco Olazar</td>\n",
       "      <td>Manuel Ferreira</td>\n",
       "      <td>...</td>\n",
       "      <td>NaN</td>\n",
       "      <td>NaN</td>\n",
       "      <td>NaN</td>\n",
       "      <td>NaN</td>\n",
       "      <td>NaN</td>\n",
       "      <td>NaN</td>\n",
       "      <td>NaN</td>\n",
       "      <td>NaN</td>\n",
       "      <td>NaN</td>\n",
       "      <td>NaN</td>\n",
       "    </tr>\n",
       "    <tr>\n",
       "      <th>960</th>\n",
       "      <td>Yugoslavia</td>\n",
       "      <td>Brazil</td>\n",
       "      <td>2</td>\n",
       "      <td>NaN</td>\n",
       "      <td>NaN</td>\n",
       "      <td>1</td>\n",
       "      <td>NaN</td>\n",
       "      <td>NaN</td>\n",
       "      <td>Bosko Simonovic</td>\n",
       "      <td>Milutin Ivković</td>\n",
       "      <td>...</td>\n",
       "      <td>NaN</td>\n",
       "      <td>NaN</td>\n",
       "      <td>NaN</td>\n",
       "      <td>NaN</td>\n",
       "      <td>NaN</td>\n",
       "      <td>NaN</td>\n",
       "      <td>NaN</td>\n",
       "      <td>NaN</td>\n",
       "      <td>NaN</td>\n",
       "      <td>NaN</td>\n",
       "    </tr>\n",
       "    <tr>\n",
       "      <th>961</th>\n",
       "      <td>Romania</td>\n",
       "      <td>Peru</td>\n",
       "      <td>3</td>\n",
       "      <td>NaN</td>\n",
       "      <td>NaN</td>\n",
       "      <td>1</td>\n",
       "      <td>NaN</td>\n",
       "      <td>NaN</td>\n",
       "      <td>Octav Luchide</td>\n",
       "      <td>Emerich Vogl</td>\n",
       "      <td>...</td>\n",
       "      <td>NaN</td>\n",
       "      <td>NaN</td>\n",
       "      <td>NaN</td>\n",
       "      <td>Plácido Galindo · 70</td>\n",
       "      <td>NaN</td>\n",
       "      <td>NaN</td>\n",
       "      <td>NaN</td>\n",
       "      <td>NaN</td>\n",
       "      <td>NaN</td>\n",
       "      <td>NaN</td>\n",
       "    </tr>\n",
       "    <tr>\n",
       "      <th>962</th>\n",
       "      <td>United States</td>\n",
       "      <td>Belgium</td>\n",
       "      <td>3</td>\n",
       "      <td>NaN</td>\n",
       "      <td>NaN</td>\n",
       "      <td>0</td>\n",
       "      <td>NaN</td>\n",
       "      <td>NaN</td>\n",
       "      <td>Bob Millar</td>\n",
       "      <td>Tom Florie</td>\n",
       "      <td>...</td>\n",
       "      <td>NaN</td>\n",
       "      <td>NaN</td>\n",
       "      <td>NaN</td>\n",
       "      <td>NaN</td>\n",
       "      <td>NaN</td>\n",
       "      <td>NaN</td>\n",
       "      <td>NaN</td>\n",
       "      <td>NaN</td>\n",
       "      <td>NaN</td>\n",
       "      <td>NaN</td>\n",
       "    </tr>\n",
       "    <tr>\n",
       "      <th>963</th>\n",
       "      <td>France</td>\n",
       "      <td>Mexico</td>\n",
       "      <td>4</td>\n",
       "      <td>NaN</td>\n",
       "      <td>NaN</td>\n",
       "      <td>1</td>\n",
       "      <td>NaN</td>\n",
       "      <td>NaN</td>\n",
       "      <td>Raoul Caudron</td>\n",
       "      <td>Alexandre Villaplane</td>\n",
       "      <td>...</td>\n",
       "      <td>NaN</td>\n",
       "      <td>NaN</td>\n",
       "      <td>NaN</td>\n",
       "      <td>NaN</td>\n",
       "      <td>NaN</td>\n",
       "      <td>NaN</td>\n",
       "      <td>NaN</td>\n",
       "      <td>NaN</td>\n",
       "      <td>NaN</td>\n",
       "      <td>NaN</td>\n",
       "    </tr>\n",
       "  </tbody>\n",
       "</table>\n",
       "<p>964 rows × 44 columns</p>\n",
       "</div>"
      ]
     },
     "execution_count": 5,
     "metadata": {},
     "output_type": "execute_result"
    }
   ],
   "execution_count": 5
  },
  {
   "metadata": {},
   "cell_type": "markdown",
   "source": ""
  },
  {
   "cell_type": "code",
   "metadata": {
    "ExecuteTime": {
     "end_time": "2024-08-05T09:38:38.618890Z",
     "start_time": "2024-08-05T09:38:38.615134Z"
    }
   },
   "source": [
    "print(matches.shape)\n",
    "print(cupes.shape)\n",
    "print(ranking.shape)"
   ],
   "outputs": [
    {
     "name": "stdout",
     "output_type": "stream",
     "text": [
      "(964, 44)\n",
      "(22, 9)\n",
      "(211, 7)\n"
     ]
    }
   ],
   "execution_count": 6
  },
  {
   "cell_type": "code",
   "metadata": {
    "ExecuteTime": {
     "end_time": "2024-08-05T09:38:38.801998Z",
     "start_time": "2024-08-05T09:38:38.799642Z"
    }
   },
   "source": "",
   "outputs": [],
   "execution_count": 6
  },
  {
   "cell_type": "code",
   "metadata": {
    "ExecuteTime": {
     "end_time": "2024-08-04T16:50:39.551991Z",
     "start_time": "2024-08-04T16:50:39.536959Z"
    }
   },
   "source": "ranking.shape",
   "outputs": [
    {
     "data": {
      "text/plain": [
       "(211, 7)"
      ]
     },
     "execution_count": 26,
     "metadata": {},
     "output_type": "execute_result"
    }
   ],
   "execution_count": 26
  },
  {
   "cell_type": "code",
   "metadata": {
    "ExecuteTime": {
     "end_time": "2024-08-04T16:50:40.002494Z",
     "start_time": "2024-08-04T16:50:39.975773Z"
    }
   },
   "source": "matches.info()",
   "outputs": [
    {
     "name": "stdout",
     "output_type": "stream",
     "text": [
      "<class 'pandas.core.frame.DataFrame'>\n",
      "RangeIndex: 964 entries, 0 to 963\n",
      "Data columns (total 44 columns):\n",
      " #   Column                           Non-Null Count  Dtype  \n",
      "---  ------                           --------------  -----  \n",
      " 0   home_team                        964 non-null    object \n",
      " 1   away_team                        964 non-null    object \n",
      " 2   home_score                       964 non-null    int64  \n",
      " 3   home_xg                          128 non-null    float64\n",
      " 4   home_penalty                     35 non-null     float64\n",
      " 5   away_score                       964 non-null    int64  \n",
      " 6   away_xg                          128 non-null    float64\n",
      " 7   away_penalty                     35 non-null     float64\n",
      " 8   home_manager                     964 non-null    object \n",
      " 9   home_captain                     644 non-null    object \n",
      " 10  away_manager                     964 non-null    object \n",
      " 11  away_captain                     644 non-null    object \n",
      " 12  Attendance                       964 non-null    int64  \n",
      " 13  Venue                            964 non-null    object \n",
      " 14  Officials                        709 non-null    object \n",
      " 15  Round                            964 non-null    object \n",
      " 16  Date                             964 non-null    object \n",
      " 17  Score                            964 non-null    object \n",
      " 18  Referee                          709 non-null    object \n",
      " 19  Notes                            73 non-null     object \n",
      " 20  Host                             964 non-null    object \n",
      " 21  Year                             964 non-null    int64  \n",
      " 22  home_goal                        718 non-null    object \n",
      " 23  away_goal                        571 non-null    object \n",
      " 24  home_goal_long                   718 non-null    object \n",
      " 25  away_goal_long                   571 non-null    object \n",
      " 26  home_own_goal                    39 non-null     object \n",
      " 27  away_own_goal                    17 non-null     object \n",
      " 28  home_penalty_goal                116 non-null    object \n",
      " 29  away_penalty_goal                84 non-null     object \n",
      " 30  home_penalty_miss_long           6 non-null      object \n",
      " 31  away_penalty_miss_long           9 non-null      object \n",
      " 32  home_penalty_shootout_goal_long  34 non-null     object \n",
      " 33  away_penalty_shootout_goal_long  34 non-null     object \n",
      " 34  home_penalty_shootout_miss_long  24 non-null     object \n",
      " 35  away_penalty_shootout_miss_long  30 non-null     object \n",
      " 36  home_red_card                    51 non-null     object \n",
      " 37  away_red_card                    54 non-null     object \n",
      " 38  home_yellow_red_card             23 non-null     object \n",
      " 39  away_yellow_red_card             31 non-null     object \n",
      " 40  home_yellow_card_long            621 non-null    object \n",
      " 41  away_yellow_card_long            627 non-null    object \n",
      " 42  home_substitute_in_long          740 non-null    object \n",
      " 43  away_substitute_in_long          747 non-null    object \n",
      "dtypes: float64(4), int64(4), object(36)\n",
      "memory usage: 331.5+ KB\n"
     ]
    }
   ],
   "execution_count": 27
  },
  {
   "cell_type": "code",
   "metadata": {
    "ExecuteTime": {
     "end_time": "2024-08-04T17:53:07.256596Z",
     "start_time": "2024-08-04T17:53:07.214612Z"
    }
   },
   "source": "matches[\"home_goal_long\"][0]",
   "outputs": [
    {
     "data": {
      "text/plain": [
       "\"['36&rsquor;|2:0|Ángel Di María|Assist:|Alexis Mac Allister', '108&rsquor;|3:2|Lionel Messi']\""
      ]
     },
     "execution_count": 28,
     "metadata": {},
     "output_type": "execute_result"
    }
   ],
   "execution_count": 28
  },
  {
   "cell_type": "code",
   "metadata": {
    "ExecuteTime": {
     "end_time": "2024-08-05T10:39:05.659014Z",
     "start_time": "2024-08-05T10:39:05.637916Z"
    }
   },
   "source": "print(matches.isna().sum()/len(matches)*100)",
   "outputs": [
    {
     "name": "stdout",
     "output_type": "stream",
     "text": [
      "home_team                           0.000000\n",
      "away_team                           0.000000\n",
      "home_score                          0.000000\n",
      "home_xg                            86.721992\n",
      "home_penalty                       96.369295\n",
      "away_score                          0.000000\n",
      "away_xg                            86.721992\n",
      "away_penalty                       96.369295\n",
      "home_manager                        0.000000\n",
      "home_captain                       33.195021\n",
      "away_manager                        0.000000\n",
      "away_captain                       33.195021\n",
      "Attendance                          0.000000\n",
      "Venue                               0.000000\n",
      "Officials                          26.452282\n",
      "Round                               0.000000\n",
      "Date                                0.000000\n",
      "Score                               0.000000\n",
      "Referee                            26.452282\n",
      "Notes                              92.427386\n",
      "Host                                0.000000\n",
      "Year                                0.000000\n",
      "home_goal                          25.518672\n",
      "away_goal                          40.767635\n",
      "home_goal_long                     25.518672\n",
      "away_goal_long                     40.767635\n",
      "home_own_goal                      95.954357\n",
      "away_own_goal                      98.236515\n",
      "home_penalty_goal                  87.966805\n",
      "away_penalty_goal                  91.286307\n",
      "home_penalty_miss_long             99.377593\n",
      "away_penalty_miss_long             99.066390\n",
      "home_penalty_shootout_goal_long    96.473029\n",
      "away_penalty_shootout_goal_long    96.473029\n",
      "home_penalty_shootout_miss_long    97.510373\n",
      "away_penalty_shootout_miss_long    96.887967\n",
      "home_red_card                      94.709544\n",
      "away_red_card                      94.398340\n",
      "home_yellow_red_card               97.614108\n",
      "away_yellow_red_card               96.784232\n",
      "home_yellow_card_long              35.580913\n",
      "away_yellow_card_long              34.958506\n",
      "home_substitute_in_long            23.236515\n",
      "away_substitute_in_long            22.510373\n",
      "dtype: float64\n"
     ]
    }
   ],
   "execution_count": 8
  },
  {
   "cell_type": "code",
   "metadata": {
    "ExecuteTime": {
     "end_time": "2024-08-05T10:48:51.859654Z",
     "start_time": "2024-08-05T10:48:51.843795Z"
    }
   },
   "source": "print(cupes.isna().sum()/len(cupes)*100)\n",
   "outputs": [
    {
     "name": "stdout",
     "output_type": "stream",
     "text": [
      "Year             0.0\n",
      "Host             0.0\n",
      "Teams            0.0\n",
      "Champion         0.0\n",
      "Runner-Up        0.0\n",
      "TopScorrer       0.0\n",
      "Attendance       0.0\n",
      "AttendanceAvg    0.0\n",
      "Matches          0.0\n",
      "dtype: float64\n"
     ]
    }
   ],
   "execution_count": 9
  },
  {
   "cell_type": "code",
   "metadata": {
    "ExecuteTime": {
     "end_time": "2024-08-05T10:49:05.903692Z",
     "start_time": "2024-08-05T10:49:05.893506Z"
    }
   },
   "source": "print(ranking.isna().sum()/len(ranking)*100)\n",
   "outputs": [
    {
     "name": "stdout",
     "output_type": "stream",
     "text": [
      "team               0.0\n",
      "team_code          0.0\n",
      "association        0.0\n",
      "rank               0.0\n",
      "previous_rank      0.0\n",
      "points             0.0\n",
      "previous_points    0.0\n",
      "dtype: float64\n"
     ]
    }
   ],
   "execution_count": 10
  },
  {
   "cell_type": "code",
   "metadata": {
    "ExecuteTime": {
     "end_time": "2024-08-05T10:56:27.015555Z",
     "start_time": "2024-08-05T10:56:27.006687Z"
    }
   },
   "source": [
    "print(matches.duplicated().isna().sum()/len(matches)*100)\n",
    "print(ranking.duplicated().isna().sum()/len(matches)*100)\n",
    "print(cupes.duplicated().isna().sum()/len(matches)*100)\n",
    "\n"
   ],
   "outputs": [
    {
     "name": "stdout",
     "output_type": "stream",
     "text": [
      "0.0\n",
      "0.0\n",
      "0.0\n"
     ]
    }
   ],
   "execution_count": 20
  },
  {
   "metadata": {},
   "cell_type": "markdown",
   "source": [
    "Germany DR = West Germany\n",
    "\n",
    "Germany (FRG) is the unified country today, while DR Germany (GDR) was East Germany before reunification in 1990."
   ]
  },
  {
   "metadata": {
    "ExecuteTime": {
     "end_time": "2024-08-05T11:05:12.596501Z",
     "start_time": "2024-08-05T11:05:12.591346Z"
    }
   },
   "cell_type": "code",
   "source": "matches[\"away_team\"].unique()\n",
   "outputs": [
    {
     "data": {
      "text/plain": [
       "array(['France', 'Morocco', 'Croatia', 'Portugal', 'Brazil', 'Argentina',\n",
       "       'Spain', 'Switzerland', 'Korea Republic', 'Poland', 'Senegal',\n",
       "       'United States', 'Australia', 'Uruguay', 'Belgium', 'Germany',\n",
       "       'Denmark', 'Mexico', 'Qatar', 'England', 'Serbia', 'Ghana',\n",
       "       'Costa Rica', 'Canada', 'Saudi Arabia', 'IR Iran', 'Ecuador',\n",
       "       'Cameroon', 'Japan', 'Tunisia', 'Netherlands', 'Wales', 'Russia',\n",
       "       'Colombia', 'Sweden', 'Peru', 'Egypt', 'Panama', 'Iceland',\n",
       "       'Nigeria', 'Algeria', 'Greece', 'Chile', \"Côte d'Ivoire\",\n",
       "       'Bosnia and Herzegovina', 'Honduras', 'Italy', 'Slovakia',\n",
       "       'New Zealand', 'South Africa', 'Korea DPR', 'Paraguay', 'Slovenia',\n",
       "       'Ukraine', 'Angola', 'Serbia and Montenegro',\n",
       "       'Trinidad and Tobago', 'Togo', 'Czech Republic', 'Türkiye',\n",
       "       'Republic of Ireland', 'China PR', 'FR Yugoslavia', 'Norway',\n",
       "       'Jamaica', 'Bulgaria', 'Austria', 'Scotland', 'Romania', 'Bolivia',\n",
       "       'Czechoslovakia', 'Yugoslavia', 'United Arab Emirates',\n",
       "       'Soviet Union', 'West Germany', 'Iraq', 'Northern Ireland',\n",
       "       'Hungary', 'Kuwait', 'El Salvador', 'Germany DR', 'Haiti', 'Zaire',\n",
       "       'Israel', 'Cuba', 'Dutch East Indies'], dtype=object)"
      ]
     },
     "execution_count": 30,
     "metadata": {},
     "output_type": "execute_result"
    }
   ],
   "execution_count": 30
  },
  {
   "cell_type": "code",
   "metadata": {
    "ExecuteTime": {
     "end_time": "2024-08-05T11:02:40.203738Z",
     "start_time": "2024-08-05T11:02:40.198040Z"
    }
   },
   "source": "matches[\"home_team\"].unique()",
   "outputs": [
    {
     "data": {
      "text/plain": [
       "array(['Argentina', 'Croatia', 'France', 'Morocco', 'England',\n",
       "       'Netherlands', 'Portugal', 'Japan', 'Brazil', 'Korea Republic',\n",
       "       'Ghana', 'Cameroon', 'Serbia', 'Canada', 'Costa Rica', 'Australia',\n",
       "       'Tunisia', 'Saudi Arabia', 'Poland', 'Ecuador', 'IR Iran', 'Wales',\n",
       "       'Belgium', 'Spain', 'Qatar', 'Switzerland', 'Uruguay', 'Germany',\n",
       "       'Denmark', 'Mexico', 'Senegal', 'United States', 'Sweden',\n",
       "       'Russia', 'Colombia', 'Panama', 'Iceland', 'Nigeria', 'Peru',\n",
       "       'Egypt', 'Algeria', 'Bosnia and Herzegovina', 'Honduras', 'Italy',\n",
       "       'Greece', \"Côte d'Ivoire\", 'Chile', 'Paraguay', 'Korea DPR',\n",
       "       'Slovakia', 'Slovenia', 'South Africa', 'New Zealand', 'Ukraine',\n",
       "       'Togo', 'Czech Republic', 'Serbia and Montenegro', 'Angola',\n",
       "       'Trinidad and Tobago', 'Türkiye', 'China PR',\n",
       "       'Republic of Ireland', 'Romania', 'Scotland', 'FR Yugoslavia',\n",
       "       'Jamaica', 'Bulgaria', 'Bolivia', 'Norway', 'West Germany',\n",
       "       'Yugoslavia', 'Czechoslovakia', 'Austria', 'United Arab Emirates',\n",
       "       'Soviet Union', 'Northern Ireland', 'Iraq', 'Hungary',\n",
       "       'Germany DR', 'Zaire', 'Haiti', 'Cuba'], dtype=object)"
      ]
     },
     "execution_count": 22,
     "metadata": {},
     "output_type": "execute_result"
    }
   ],
   "execution_count": 22
  },
  {
   "cell_type": "code",
   "metadata": {
    "ExecuteTime": {
     "end_time": "2024-08-05T11:04:14.602683Z",
     "start_time": "2024-08-05T11:04:14.597644Z"
    }
   },
   "source": "matches[\"home_team\"] = matches[\"home_team\"].str.replace(\"Germany DR\", \"West Germany\")",
   "outputs": [],
   "execution_count": 28
  },
  {
   "metadata": {
    "ExecuteTime": {
     "end_time": "2024-08-05T11:05:45.658863Z",
     "start_time": "2024-08-05T11:05:45.654229Z"
    }
   },
   "cell_type": "code",
   "source": "matches[\"away_team\"] = matches[\"away_team\"].str.replace(\"Germany DR\", \"West Germany\")\n",
   "outputs": [],
   "execution_count": 31
  },
  {
   "metadata": {},
   "cell_type": "markdown",
   "source": "# EDA"
  },
  {
   "metadata": {},
   "cell_type": "markdown",
   "source": ""
  },
  {
   "cell_type": "code",
   "metadata": {
    "ExecuteTime": {
     "end_time": "2024-08-05T12:03:11.080482Z",
     "start_time": "2024-08-05T12:03:11.072468Z"
    }
   },
   "source": [
    "# total number of match \n",
    "print(\"Total matches: \", len(matches))\n",
    "# total goals score \n",
    "print(f\"Total goals score: {sum(matches[\"home_score\"] + matches[\"away_score\"])}\")\n",
    "# total attendance over time \n",
    "print(f\"total attendance over time: {sum(matches[\"Attendance\"]) } \")\n",
    "# avg attendance \n",
    "print(f\"total attendance over time: {sum(matches[\"Attendance\"]) / len(matches[\"Attendance\"])}\")"
   ],
   "outputs": [
    {
     "name": "stdout",
     "output_type": "stream",
     "text": [
      "Total matches:  964\n",
      "Total goals score: 2720\n",
      "total attendance over time: 44048413 \n",
      "total attendance over time: 45693.3744813278\n"
     ]
    }
   ],
   "execution_count": 38
  },
  {
   "metadata": {},
   "cell_type": "markdown",
   "source": "# Times a Particular country is winner First runner up or Second Runner up"
  },
  {
   "cell_type": "code",
   "metadata": {
    "ExecuteTime": {
     "end_time": "2024-08-05T12:13:00.330296Z",
     "start_time": "2024-08-05T12:13:00.325281Z"
    }
   },
   "source": "winner = cupes[\"Champion\"].value_counts().reset_index()",
   "outputs": [],
   "execution_count": 42
  },
  {
   "cell_type": "code",
   "metadata": {
    "ExecuteTime": {
     "end_time": "2024-08-05T12:19:11.191309Z",
     "start_time": "2024-08-05T12:19:11.162263Z"
    }
   },
   "source": [
    "fig = px.pie(winner, values='count', names='Champion', title='Number of time team won fifa ')\n",
    "# customize\n",
    "fig.update_traces(textinfo=\"label+value\")\n",
    "fig.show()"
   ],
   "outputs": [
    {
     "data": {
      "application/vnd.plotly.v1+json": {
       "data": [
        {
         "domain": {
          "x": [
           0.0,
           1.0
          ],
          "y": [
           0.0,
           1.0
          ]
         },
         "hovertemplate": "Champion=%{label}<br>count=%{value}<extra></extra>",
         "labels": [
          "Brazil",
          "Italy",
          "Argentina",
          "Germany",
          "France",
          "Uruguay",
          "West Germany",
          "Spain",
          "England"
         ],
         "legendgroup": "",
         "name": "",
         "showlegend": true,
         "values": [
          5,
          4,
          3,
          2,
          2,
          2,
          2,
          1,
          1
         ],
         "type": "pie",
         "textinfo": "label+value"
        }
       ],
       "layout": {
        "template": {
         "data": {
          "histogram2dcontour": [
           {
            "type": "histogram2dcontour",
            "colorbar": {
             "outlinewidth": 0,
             "ticks": ""
            },
            "colorscale": [
             [
              0.0,
              "#0d0887"
             ],
             [
              0.1111111111111111,
              "#46039f"
             ],
             [
              0.2222222222222222,
              "#7201a8"
             ],
             [
              0.3333333333333333,
              "#9c179e"
             ],
             [
              0.4444444444444444,
              "#bd3786"
             ],
             [
              0.5555555555555556,
              "#d8576b"
             ],
             [
              0.6666666666666666,
              "#ed7953"
             ],
             [
              0.7777777777777778,
              "#fb9f3a"
             ],
             [
              0.8888888888888888,
              "#fdca26"
             ],
             [
              1.0,
              "#f0f921"
             ]
            ]
           }
          ],
          "choropleth": [
           {
            "type": "choropleth",
            "colorbar": {
             "outlinewidth": 0,
             "ticks": ""
            }
           }
          ],
          "histogram2d": [
           {
            "type": "histogram2d",
            "colorbar": {
             "outlinewidth": 0,
             "ticks": ""
            },
            "colorscale": [
             [
              0.0,
              "#0d0887"
             ],
             [
              0.1111111111111111,
              "#46039f"
             ],
             [
              0.2222222222222222,
              "#7201a8"
             ],
             [
              0.3333333333333333,
              "#9c179e"
             ],
             [
              0.4444444444444444,
              "#bd3786"
             ],
             [
              0.5555555555555556,
              "#d8576b"
             ],
             [
              0.6666666666666666,
              "#ed7953"
             ],
             [
              0.7777777777777778,
              "#fb9f3a"
             ],
             [
              0.8888888888888888,
              "#fdca26"
             ],
             [
              1.0,
              "#f0f921"
             ]
            ]
           }
          ],
          "heatmap": [
           {
            "type": "heatmap",
            "colorbar": {
             "outlinewidth": 0,
             "ticks": ""
            },
            "colorscale": [
             [
              0.0,
              "#0d0887"
             ],
             [
              0.1111111111111111,
              "#46039f"
             ],
             [
              0.2222222222222222,
              "#7201a8"
             ],
             [
              0.3333333333333333,
              "#9c179e"
             ],
             [
              0.4444444444444444,
              "#bd3786"
             ],
             [
              0.5555555555555556,
              "#d8576b"
             ],
             [
              0.6666666666666666,
              "#ed7953"
             ],
             [
              0.7777777777777778,
              "#fb9f3a"
             ],
             [
              0.8888888888888888,
              "#fdca26"
             ],
             [
              1.0,
              "#f0f921"
             ]
            ]
           }
          ],
          "heatmapgl": [
           {
            "type": "heatmapgl",
            "colorbar": {
             "outlinewidth": 0,
             "ticks": ""
            },
            "colorscale": [
             [
              0.0,
              "#0d0887"
             ],
             [
              0.1111111111111111,
              "#46039f"
             ],
             [
              0.2222222222222222,
              "#7201a8"
             ],
             [
              0.3333333333333333,
              "#9c179e"
             ],
             [
              0.4444444444444444,
              "#bd3786"
             ],
             [
              0.5555555555555556,
              "#d8576b"
             ],
             [
              0.6666666666666666,
              "#ed7953"
             ],
             [
              0.7777777777777778,
              "#fb9f3a"
             ],
             [
              0.8888888888888888,
              "#fdca26"
             ],
             [
              1.0,
              "#f0f921"
             ]
            ]
           }
          ],
          "contourcarpet": [
           {
            "type": "contourcarpet",
            "colorbar": {
             "outlinewidth": 0,
             "ticks": ""
            }
           }
          ],
          "contour": [
           {
            "type": "contour",
            "colorbar": {
             "outlinewidth": 0,
             "ticks": ""
            },
            "colorscale": [
             [
              0.0,
              "#0d0887"
             ],
             [
              0.1111111111111111,
              "#46039f"
             ],
             [
              0.2222222222222222,
              "#7201a8"
             ],
             [
              0.3333333333333333,
              "#9c179e"
             ],
             [
              0.4444444444444444,
              "#bd3786"
             ],
             [
              0.5555555555555556,
              "#d8576b"
             ],
             [
              0.6666666666666666,
              "#ed7953"
             ],
             [
              0.7777777777777778,
              "#fb9f3a"
             ],
             [
              0.8888888888888888,
              "#fdca26"
             ],
             [
              1.0,
              "#f0f921"
             ]
            ]
           }
          ],
          "surface": [
           {
            "type": "surface",
            "colorbar": {
             "outlinewidth": 0,
             "ticks": ""
            },
            "colorscale": [
             [
              0.0,
              "#0d0887"
             ],
             [
              0.1111111111111111,
              "#46039f"
             ],
             [
              0.2222222222222222,
              "#7201a8"
             ],
             [
              0.3333333333333333,
              "#9c179e"
             ],
             [
              0.4444444444444444,
              "#bd3786"
             ],
             [
              0.5555555555555556,
              "#d8576b"
             ],
             [
              0.6666666666666666,
              "#ed7953"
             ],
             [
              0.7777777777777778,
              "#fb9f3a"
             ],
             [
              0.8888888888888888,
              "#fdca26"
             ],
             [
              1.0,
              "#f0f921"
             ]
            ]
           }
          ],
          "mesh3d": [
           {
            "type": "mesh3d",
            "colorbar": {
             "outlinewidth": 0,
             "ticks": ""
            }
           }
          ],
          "scatter": [
           {
            "marker": {
             "line": {
              "color": "#283442"
             }
            },
            "type": "scatter"
           }
          ],
          "parcoords": [
           {
            "type": "parcoords",
            "line": {
             "colorbar": {
              "outlinewidth": 0,
              "ticks": ""
             }
            }
           }
          ],
          "scatterpolargl": [
           {
            "type": "scatterpolargl",
            "marker": {
             "colorbar": {
              "outlinewidth": 0,
              "ticks": ""
             }
            }
           }
          ],
          "bar": [
           {
            "error_x": {
             "color": "#f2f5fa"
            },
            "error_y": {
             "color": "#f2f5fa"
            },
            "marker": {
             "line": {
              "color": "rgb(17,17,17)",
              "width": 0.5
             },
             "pattern": {
              "fillmode": "overlay",
              "size": 10,
              "solidity": 0.2
             }
            },
            "type": "bar"
           }
          ],
          "scattergeo": [
           {
            "type": "scattergeo",
            "marker": {
             "colorbar": {
              "outlinewidth": 0,
              "ticks": ""
             }
            }
           }
          ],
          "scatterpolar": [
           {
            "type": "scatterpolar",
            "marker": {
             "colorbar": {
              "outlinewidth": 0,
              "ticks": ""
             }
            }
           }
          ],
          "histogram": [
           {
            "marker": {
             "pattern": {
              "fillmode": "overlay",
              "size": 10,
              "solidity": 0.2
             }
            },
            "type": "histogram"
           }
          ],
          "scattergl": [
           {
            "marker": {
             "line": {
              "color": "#283442"
             }
            },
            "type": "scattergl"
           }
          ],
          "scatter3d": [
           {
            "type": "scatter3d",
            "line": {
             "colorbar": {
              "outlinewidth": 0,
              "ticks": ""
             }
            },
            "marker": {
             "colorbar": {
              "outlinewidth": 0,
              "ticks": ""
             }
            }
           }
          ],
          "scattermapbox": [
           {
            "type": "scattermapbox",
            "marker": {
             "colorbar": {
              "outlinewidth": 0,
              "ticks": ""
             }
            }
           }
          ],
          "scatterternary": [
           {
            "type": "scatterternary",
            "marker": {
             "colorbar": {
              "outlinewidth": 0,
              "ticks": ""
             }
            }
           }
          ],
          "scattercarpet": [
           {
            "type": "scattercarpet",
            "marker": {
             "colorbar": {
              "outlinewidth": 0,
              "ticks": ""
             }
            }
           }
          ],
          "carpet": [
           {
            "aaxis": {
             "endlinecolor": "#A2B1C6",
             "gridcolor": "#506784",
             "linecolor": "#506784",
             "minorgridcolor": "#506784",
             "startlinecolor": "#A2B1C6"
            },
            "baxis": {
             "endlinecolor": "#A2B1C6",
             "gridcolor": "#506784",
             "linecolor": "#506784",
             "minorgridcolor": "#506784",
             "startlinecolor": "#A2B1C6"
            },
            "type": "carpet"
           }
          ],
          "table": [
           {
            "cells": {
             "fill": {
              "color": "#506784"
             },
             "line": {
              "color": "rgb(17,17,17)"
             }
            },
            "header": {
             "fill": {
              "color": "#2a3f5f"
             },
             "line": {
              "color": "rgb(17,17,17)"
             }
            },
            "type": "table"
           }
          ],
          "barpolar": [
           {
            "marker": {
             "line": {
              "color": "rgb(17,17,17)",
              "width": 0.5
             },
             "pattern": {
              "fillmode": "overlay",
              "size": 10,
              "solidity": 0.2
             }
            },
            "type": "barpolar"
           }
          ],
          "pie": [
           {
            "automargin": true,
            "type": "pie"
           }
          ]
         },
         "layout": {
          "autotypenumbers": "strict",
          "colorway": [
           "#636efa",
           "#EF553B",
           "#00cc96",
           "#ab63fa",
           "#FFA15A",
           "#19d3f3",
           "#FF6692",
           "#B6E880",
           "#FF97FF",
           "#FECB52"
          ],
          "font": {
           "color": "#f2f5fa"
          },
          "hovermode": "closest",
          "hoverlabel": {
           "align": "left"
          },
          "paper_bgcolor": "rgb(17,17,17)",
          "plot_bgcolor": "rgb(17,17,17)",
          "polar": {
           "bgcolor": "rgb(17,17,17)",
           "angularaxis": {
            "gridcolor": "#506784",
            "linecolor": "#506784",
            "ticks": ""
           },
           "radialaxis": {
            "gridcolor": "#506784",
            "linecolor": "#506784",
            "ticks": ""
           }
          },
          "ternary": {
           "bgcolor": "rgb(17,17,17)",
           "aaxis": {
            "gridcolor": "#506784",
            "linecolor": "#506784",
            "ticks": ""
           },
           "baxis": {
            "gridcolor": "#506784",
            "linecolor": "#506784",
            "ticks": ""
           },
           "caxis": {
            "gridcolor": "#506784",
            "linecolor": "#506784",
            "ticks": ""
           }
          },
          "coloraxis": {
           "colorbar": {
            "outlinewidth": 0,
            "ticks": ""
           }
          },
          "colorscale": {
           "sequential": [
            [
             0.0,
             "#0d0887"
            ],
            [
             0.1111111111111111,
             "#46039f"
            ],
            [
             0.2222222222222222,
             "#7201a8"
            ],
            [
             0.3333333333333333,
             "#9c179e"
            ],
            [
             0.4444444444444444,
             "#bd3786"
            ],
            [
             0.5555555555555556,
             "#d8576b"
            ],
            [
             0.6666666666666666,
             "#ed7953"
            ],
            [
             0.7777777777777778,
             "#fb9f3a"
            ],
            [
             0.8888888888888888,
             "#fdca26"
            ],
            [
             1.0,
             "#f0f921"
            ]
           ],
           "sequentialminus": [
            [
             0.0,
             "#0d0887"
            ],
            [
             0.1111111111111111,
             "#46039f"
            ],
            [
             0.2222222222222222,
             "#7201a8"
            ],
            [
             0.3333333333333333,
             "#9c179e"
            ],
            [
             0.4444444444444444,
             "#bd3786"
            ],
            [
             0.5555555555555556,
             "#d8576b"
            ],
            [
             0.6666666666666666,
             "#ed7953"
            ],
            [
             0.7777777777777778,
             "#fb9f3a"
            ],
            [
             0.8888888888888888,
             "#fdca26"
            ],
            [
             1.0,
             "#f0f921"
            ]
           ],
           "diverging": [
            [
             0,
             "#8e0152"
            ],
            [
             0.1,
             "#c51b7d"
            ],
            [
             0.2,
             "#de77ae"
            ],
            [
             0.3,
             "#f1b6da"
            ],
            [
             0.4,
             "#fde0ef"
            ],
            [
             0.5,
             "#f7f7f7"
            ],
            [
             0.6,
             "#e6f5d0"
            ],
            [
             0.7,
             "#b8e186"
            ],
            [
             0.8,
             "#7fbc41"
            ],
            [
             0.9,
             "#4d9221"
            ],
            [
             1,
             "#276419"
            ]
           ]
          },
          "xaxis": {
           "gridcolor": "#283442",
           "linecolor": "#506784",
           "ticks": "",
           "title": {
            "standoff": 15
           },
           "zerolinecolor": "#283442",
           "automargin": true,
           "zerolinewidth": 2
          },
          "yaxis": {
           "gridcolor": "#283442",
           "linecolor": "#506784",
           "ticks": "",
           "title": {
            "standoff": 15
           },
           "zerolinecolor": "#283442",
           "automargin": true,
           "zerolinewidth": 2
          },
          "scene": {
           "xaxis": {
            "backgroundcolor": "rgb(17,17,17)",
            "gridcolor": "#506784",
            "linecolor": "#506784",
            "showbackground": true,
            "ticks": "",
            "zerolinecolor": "#C8D4E3",
            "gridwidth": 2
           },
           "yaxis": {
            "backgroundcolor": "rgb(17,17,17)",
            "gridcolor": "#506784",
            "linecolor": "#506784",
            "showbackground": true,
            "ticks": "",
            "zerolinecolor": "#C8D4E3",
            "gridwidth": 2
           },
           "zaxis": {
            "backgroundcolor": "rgb(17,17,17)",
            "gridcolor": "#506784",
            "linecolor": "#506784",
            "showbackground": true,
            "ticks": "",
            "zerolinecolor": "#C8D4E3",
            "gridwidth": 2
           }
          },
          "shapedefaults": {
           "line": {
            "color": "#f2f5fa"
           }
          },
          "annotationdefaults": {
           "arrowcolor": "#f2f5fa",
           "arrowhead": 0,
           "arrowwidth": 1
          },
          "geo": {
           "bgcolor": "rgb(17,17,17)",
           "landcolor": "rgb(17,17,17)",
           "subunitcolor": "#506784",
           "showland": true,
           "showlakes": true,
           "lakecolor": "rgb(17,17,17)"
          },
          "title": {
           "x": 0.05
          },
          "updatemenudefaults": {
           "bgcolor": "#506784",
           "borderwidth": 0
          },
          "sliderdefaults": {
           "bgcolor": "#C8D4E3",
           "borderwidth": 1,
           "bordercolor": "rgb(17,17,17)",
           "tickwidth": 0
          },
          "mapbox": {
           "style": "dark"
          }
         }
        },
        "legend": {
         "tracegroupgap": 0
        },
        "title": {
         "text": "Number of time team won fifa "
        }
       },
       "config": {
        "plotlyServerURL": "https://plot.ly"
       }
      },
      "text/html": [
       "<div>                            <div id=\"47427a27-6036-4d21-8c9d-91e6eacfc8d1\" class=\"plotly-graph-div\" style=\"height:525px; width:100%;\"></div>            <script type=\"text/javascript\">                require([\"plotly\"], function(Plotly) {                    window.PLOTLYENV=window.PLOTLYENV || {};                                    if (document.getElementById(\"47427a27-6036-4d21-8c9d-91e6eacfc8d1\")) {                    Plotly.newPlot(                        \"47427a27-6036-4d21-8c9d-91e6eacfc8d1\",                        [{\"domain\":{\"x\":[0.0,1.0],\"y\":[0.0,1.0]},\"hovertemplate\":\"Champion=%{label}\\u003cbr\\u003ecount=%{value}\\u003cextra\\u003e\\u003c\\u002fextra\\u003e\",\"labels\":[\"Brazil\",\"Italy\",\"Argentina\",\"Germany\",\"France\",\"Uruguay\",\"West Germany\",\"Spain\",\"England\"],\"legendgroup\":\"\",\"name\":\"\",\"showlegend\":true,\"values\":[5,4,3,2,2,2,2,1,1],\"type\":\"pie\",\"textinfo\":\"label+value\"}],                        {\"template\":{\"data\":{\"histogram2dcontour\":[{\"type\":\"histogram2dcontour\",\"colorbar\":{\"outlinewidth\":0,\"ticks\":\"\"},\"colorscale\":[[0.0,\"#0d0887\"],[0.1111111111111111,\"#46039f\"],[0.2222222222222222,\"#7201a8\"],[0.3333333333333333,\"#9c179e\"],[0.4444444444444444,\"#bd3786\"],[0.5555555555555556,\"#d8576b\"],[0.6666666666666666,\"#ed7953\"],[0.7777777777777778,\"#fb9f3a\"],[0.8888888888888888,\"#fdca26\"],[1.0,\"#f0f921\"]]}],\"choropleth\":[{\"type\":\"choropleth\",\"colorbar\":{\"outlinewidth\":0,\"ticks\":\"\"}}],\"histogram2d\":[{\"type\":\"histogram2d\",\"colorbar\":{\"outlinewidth\":0,\"ticks\":\"\"},\"colorscale\":[[0.0,\"#0d0887\"],[0.1111111111111111,\"#46039f\"],[0.2222222222222222,\"#7201a8\"],[0.3333333333333333,\"#9c179e\"],[0.4444444444444444,\"#bd3786\"],[0.5555555555555556,\"#d8576b\"],[0.6666666666666666,\"#ed7953\"],[0.7777777777777778,\"#fb9f3a\"],[0.8888888888888888,\"#fdca26\"],[1.0,\"#f0f921\"]]}],\"heatmap\":[{\"type\":\"heatmap\",\"colorbar\":{\"outlinewidth\":0,\"ticks\":\"\"},\"colorscale\":[[0.0,\"#0d0887\"],[0.1111111111111111,\"#46039f\"],[0.2222222222222222,\"#7201a8\"],[0.3333333333333333,\"#9c179e\"],[0.4444444444444444,\"#bd3786\"],[0.5555555555555556,\"#d8576b\"],[0.6666666666666666,\"#ed7953\"],[0.7777777777777778,\"#fb9f3a\"],[0.8888888888888888,\"#fdca26\"],[1.0,\"#f0f921\"]]}],\"heatmapgl\":[{\"type\":\"heatmapgl\",\"colorbar\":{\"outlinewidth\":0,\"ticks\":\"\"},\"colorscale\":[[0.0,\"#0d0887\"],[0.1111111111111111,\"#46039f\"],[0.2222222222222222,\"#7201a8\"],[0.3333333333333333,\"#9c179e\"],[0.4444444444444444,\"#bd3786\"],[0.5555555555555556,\"#d8576b\"],[0.6666666666666666,\"#ed7953\"],[0.7777777777777778,\"#fb9f3a\"],[0.8888888888888888,\"#fdca26\"],[1.0,\"#f0f921\"]]}],\"contourcarpet\":[{\"type\":\"contourcarpet\",\"colorbar\":{\"outlinewidth\":0,\"ticks\":\"\"}}],\"contour\":[{\"type\":\"contour\",\"colorbar\":{\"outlinewidth\":0,\"ticks\":\"\"},\"colorscale\":[[0.0,\"#0d0887\"],[0.1111111111111111,\"#46039f\"],[0.2222222222222222,\"#7201a8\"],[0.3333333333333333,\"#9c179e\"],[0.4444444444444444,\"#bd3786\"],[0.5555555555555556,\"#d8576b\"],[0.6666666666666666,\"#ed7953\"],[0.7777777777777778,\"#fb9f3a\"],[0.8888888888888888,\"#fdca26\"],[1.0,\"#f0f921\"]]}],\"surface\":[{\"type\":\"surface\",\"colorbar\":{\"outlinewidth\":0,\"ticks\":\"\"},\"colorscale\":[[0.0,\"#0d0887\"],[0.1111111111111111,\"#46039f\"],[0.2222222222222222,\"#7201a8\"],[0.3333333333333333,\"#9c179e\"],[0.4444444444444444,\"#bd3786\"],[0.5555555555555556,\"#d8576b\"],[0.6666666666666666,\"#ed7953\"],[0.7777777777777778,\"#fb9f3a\"],[0.8888888888888888,\"#fdca26\"],[1.0,\"#f0f921\"]]}],\"mesh3d\":[{\"type\":\"mesh3d\",\"colorbar\":{\"outlinewidth\":0,\"ticks\":\"\"}}],\"scatter\":[{\"marker\":{\"line\":{\"color\":\"#283442\"}},\"type\":\"scatter\"}],\"parcoords\":[{\"type\":\"parcoords\",\"line\":{\"colorbar\":{\"outlinewidth\":0,\"ticks\":\"\"}}}],\"scatterpolargl\":[{\"type\":\"scatterpolargl\",\"marker\":{\"colorbar\":{\"outlinewidth\":0,\"ticks\":\"\"}}}],\"bar\":[{\"error_x\":{\"color\":\"#f2f5fa\"},\"error_y\":{\"color\":\"#f2f5fa\"},\"marker\":{\"line\":{\"color\":\"rgb(17,17,17)\",\"width\":0.5},\"pattern\":{\"fillmode\":\"overlay\",\"size\":10,\"solidity\":0.2}},\"type\":\"bar\"}],\"scattergeo\":[{\"type\":\"scattergeo\",\"marker\":{\"colorbar\":{\"outlinewidth\":0,\"ticks\":\"\"}}}],\"scatterpolar\":[{\"type\":\"scatterpolar\",\"marker\":{\"colorbar\":{\"outlinewidth\":0,\"ticks\":\"\"}}}],\"histogram\":[{\"marker\":{\"pattern\":{\"fillmode\":\"overlay\",\"size\":10,\"solidity\":0.2}},\"type\":\"histogram\"}],\"scattergl\":[{\"marker\":{\"line\":{\"color\":\"#283442\"}},\"type\":\"scattergl\"}],\"scatter3d\":[{\"type\":\"scatter3d\",\"line\":{\"colorbar\":{\"outlinewidth\":0,\"ticks\":\"\"}},\"marker\":{\"colorbar\":{\"outlinewidth\":0,\"ticks\":\"\"}}}],\"scattermapbox\":[{\"type\":\"scattermapbox\",\"marker\":{\"colorbar\":{\"outlinewidth\":0,\"ticks\":\"\"}}}],\"scatterternary\":[{\"type\":\"scatterternary\",\"marker\":{\"colorbar\":{\"outlinewidth\":0,\"ticks\":\"\"}}}],\"scattercarpet\":[{\"type\":\"scattercarpet\",\"marker\":{\"colorbar\":{\"outlinewidth\":0,\"ticks\":\"\"}}}],\"carpet\":[{\"aaxis\":{\"endlinecolor\":\"#A2B1C6\",\"gridcolor\":\"#506784\",\"linecolor\":\"#506784\",\"minorgridcolor\":\"#506784\",\"startlinecolor\":\"#A2B1C6\"},\"baxis\":{\"endlinecolor\":\"#A2B1C6\",\"gridcolor\":\"#506784\",\"linecolor\":\"#506784\",\"minorgridcolor\":\"#506784\",\"startlinecolor\":\"#A2B1C6\"},\"type\":\"carpet\"}],\"table\":[{\"cells\":{\"fill\":{\"color\":\"#506784\"},\"line\":{\"color\":\"rgb(17,17,17)\"}},\"header\":{\"fill\":{\"color\":\"#2a3f5f\"},\"line\":{\"color\":\"rgb(17,17,17)\"}},\"type\":\"table\"}],\"barpolar\":[{\"marker\":{\"line\":{\"color\":\"rgb(17,17,17)\",\"width\":0.5},\"pattern\":{\"fillmode\":\"overlay\",\"size\":10,\"solidity\":0.2}},\"type\":\"barpolar\"}],\"pie\":[{\"automargin\":true,\"type\":\"pie\"}]},\"layout\":{\"autotypenumbers\":\"strict\",\"colorway\":[\"#636efa\",\"#EF553B\",\"#00cc96\",\"#ab63fa\",\"#FFA15A\",\"#19d3f3\",\"#FF6692\",\"#B6E880\",\"#FF97FF\",\"#FECB52\"],\"font\":{\"color\":\"#f2f5fa\"},\"hovermode\":\"closest\",\"hoverlabel\":{\"align\":\"left\"},\"paper_bgcolor\":\"rgb(17,17,17)\",\"plot_bgcolor\":\"rgb(17,17,17)\",\"polar\":{\"bgcolor\":\"rgb(17,17,17)\",\"angularaxis\":{\"gridcolor\":\"#506784\",\"linecolor\":\"#506784\",\"ticks\":\"\"},\"radialaxis\":{\"gridcolor\":\"#506784\",\"linecolor\":\"#506784\",\"ticks\":\"\"}},\"ternary\":{\"bgcolor\":\"rgb(17,17,17)\",\"aaxis\":{\"gridcolor\":\"#506784\",\"linecolor\":\"#506784\",\"ticks\":\"\"},\"baxis\":{\"gridcolor\":\"#506784\",\"linecolor\":\"#506784\",\"ticks\":\"\"},\"caxis\":{\"gridcolor\":\"#506784\",\"linecolor\":\"#506784\",\"ticks\":\"\"}},\"coloraxis\":{\"colorbar\":{\"outlinewidth\":0,\"ticks\":\"\"}},\"colorscale\":{\"sequential\":[[0.0,\"#0d0887\"],[0.1111111111111111,\"#46039f\"],[0.2222222222222222,\"#7201a8\"],[0.3333333333333333,\"#9c179e\"],[0.4444444444444444,\"#bd3786\"],[0.5555555555555556,\"#d8576b\"],[0.6666666666666666,\"#ed7953\"],[0.7777777777777778,\"#fb9f3a\"],[0.8888888888888888,\"#fdca26\"],[1.0,\"#f0f921\"]],\"sequentialminus\":[[0.0,\"#0d0887\"],[0.1111111111111111,\"#46039f\"],[0.2222222222222222,\"#7201a8\"],[0.3333333333333333,\"#9c179e\"],[0.4444444444444444,\"#bd3786\"],[0.5555555555555556,\"#d8576b\"],[0.6666666666666666,\"#ed7953\"],[0.7777777777777778,\"#fb9f3a\"],[0.8888888888888888,\"#fdca26\"],[1.0,\"#f0f921\"]],\"diverging\":[[0,\"#8e0152\"],[0.1,\"#c51b7d\"],[0.2,\"#de77ae\"],[0.3,\"#f1b6da\"],[0.4,\"#fde0ef\"],[0.5,\"#f7f7f7\"],[0.6,\"#e6f5d0\"],[0.7,\"#b8e186\"],[0.8,\"#7fbc41\"],[0.9,\"#4d9221\"],[1,\"#276419\"]]},\"xaxis\":{\"gridcolor\":\"#283442\",\"linecolor\":\"#506784\",\"ticks\":\"\",\"title\":{\"standoff\":15},\"zerolinecolor\":\"#283442\",\"automargin\":true,\"zerolinewidth\":2},\"yaxis\":{\"gridcolor\":\"#283442\",\"linecolor\":\"#506784\",\"ticks\":\"\",\"title\":{\"standoff\":15},\"zerolinecolor\":\"#283442\",\"automargin\":true,\"zerolinewidth\":2},\"scene\":{\"xaxis\":{\"backgroundcolor\":\"rgb(17,17,17)\",\"gridcolor\":\"#506784\",\"linecolor\":\"#506784\",\"showbackground\":true,\"ticks\":\"\",\"zerolinecolor\":\"#C8D4E3\",\"gridwidth\":2},\"yaxis\":{\"backgroundcolor\":\"rgb(17,17,17)\",\"gridcolor\":\"#506784\",\"linecolor\":\"#506784\",\"showbackground\":true,\"ticks\":\"\",\"zerolinecolor\":\"#C8D4E3\",\"gridwidth\":2},\"zaxis\":{\"backgroundcolor\":\"rgb(17,17,17)\",\"gridcolor\":\"#506784\",\"linecolor\":\"#506784\",\"showbackground\":true,\"ticks\":\"\",\"zerolinecolor\":\"#C8D4E3\",\"gridwidth\":2}},\"shapedefaults\":{\"line\":{\"color\":\"#f2f5fa\"}},\"annotationdefaults\":{\"arrowcolor\":\"#f2f5fa\",\"arrowhead\":0,\"arrowwidth\":1},\"geo\":{\"bgcolor\":\"rgb(17,17,17)\",\"landcolor\":\"rgb(17,17,17)\",\"subunitcolor\":\"#506784\",\"showland\":true,\"showlakes\":true,\"lakecolor\":\"rgb(17,17,17)\"},\"title\":{\"x\":0.05},\"updatemenudefaults\":{\"bgcolor\":\"#506784\",\"borderwidth\":0},\"sliderdefaults\":{\"bgcolor\":\"#C8D4E3\",\"borderwidth\":1,\"bordercolor\":\"rgb(17,17,17)\",\"tickwidth\":0},\"mapbox\":{\"style\":\"dark\"}}},\"legend\":{\"tracegroupgap\":0},\"title\":{\"text\":\"Number of time team won fifa \"}},                        {\"responsive\": true}                    ).then(function(){\n",
       "                            \n",
       "var gd = document.getElementById('47427a27-6036-4d21-8c9d-91e6eacfc8d1');\n",
       "var x = new MutationObserver(function (mutations, observer) {{\n",
       "        var display = window.getComputedStyle(gd).display;\n",
       "        if (!display || display === 'none') {{\n",
       "            console.log([gd, 'removed!']);\n",
       "            Plotly.purge(gd);\n",
       "            observer.disconnect();\n",
       "        }}\n",
       "}});\n",
       "\n",
       "// Listen for the removal of the full notebook cells\n",
       "var notebookContainer = gd.closest('#notebook-container');\n",
       "if (notebookContainer) {{\n",
       "    x.observe(notebookContainer, {childList: true});\n",
       "}}\n",
       "\n",
       "// Listen for the clearing of the current output cell\n",
       "var outputEl = gd.closest('.output');\n",
       "if (outputEl) {{\n",
       "    x.observe(outputEl, {childList: true});\n",
       "}}\n",
       "\n",
       "                        })                };                });            </script>        </div>"
      ]
     },
     "metadata": {},
     "output_type": "display_data"
    }
   ],
   "execution_count": 50
  },
  {
   "cell_type": "code",
   "metadata": {
    "ExecuteTime": {
     "end_time": "2024-08-05T13:32:28.082238Z",
     "start_time": "2024-08-05T13:32:28.038862Z"
    }
   },
   "source": "# FIRST RUNNER UP AND SECOND RUNNER UP",
   "outputs": [],
   "execution_count": 51
  },
  {
   "cell_type": "code",
   "metadata": {
    "ExecuteTime": {
     "end_time": "2024-08-05T13:33:46.772270Z",
     "start_time": "2024-08-05T13:33:46.739815Z"
    }
   },
   "source": "matches[\"Round\"].unique()",
   "outputs": [
    {
     "data": {
      "text/plain": [
       "array(['Final', 'Third-place match', 'Semi-finals', 'Quarter-finals',\n",
       "       'Round of 16', 'Group stage', 'Second group stage',\n",
       "       'First group stage', 'Second round', 'First round',\n",
       "       'Group stage play-off', 'Final stage'], dtype=object)"
      ]
     },
     "execution_count": 53,
     "metadata": {},
     "output_type": "execute_result"
    }
   ],
   "execution_count": 53
  },
  {
   "cell_type": "code",
   "metadata": {
    "ExecuteTime": {
     "end_time": "2024-08-05T13:38:47.473491Z",
     "start_time": "2024-08-05T13:38:47.468484Z"
    }
   },
   "source": "matches[\"home_penalty\"].fillna({\"home_penalty\": 0}, inplace=True)\n",
   "outputs": [],
   "execution_count": 61
  },
  {
   "metadata": {
    "ExecuteTime": {
     "end_time": "2024-08-05T13:37:53.128114Z",
     "start_time": "2024-08-05T13:37:53.113824Z"
    }
   },
   "cell_type": "code",
   "source": "matches[\"away_penalty\"].fillna({\"away_penalty\": 0}, inplace=True)",
   "outputs": [
    {
     "data": {
      "text/plain": [
       "         home_team away_team  home_score  home_xg  home_penalty  away_score  \\\n",
       "0        Argentina    France           3      3.3           4.0           3   \n",
       "1          Croatia   Morocco           2      0.7           0.0           1   \n",
       "2           France   Morocco           2      2.0           0.0           0   \n",
       "3        Argentina   Croatia           3      2.3           0.0           0   \n",
       "4          Morocco  Portugal           1      1.4           0.0           0   \n",
       "..             ...       ...         ...      ...           ...         ...   \n",
       "959      Argentina    France           1      NaN           0.0           0   \n",
       "960     Yugoslavia    Brazil           2      NaN           0.0           1   \n",
       "961        Romania      Peru           3      NaN           0.0           1   \n",
       "962  United States   Belgium           3      NaN           0.0           0   \n",
       "963         France    Mexico           4      NaN           0.0           1   \n",
       "\n",
       "     away_xg  away_penalty      home_manager          home_captain  ...  \\\n",
       "0        2.2           2.0    Lionel Scaloni          Lionel Messi  ...   \n",
       "1        1.2           0.0      Zlatko Dalić           Luka Modrić  ...   \n",
       "2        0.9           0.0  Didier Deschamps           Hugo Lloris  ...   \n",
       "3        0.5           0.0    Lionel Scaloni          Lionel Messi  ...   \n",
       "4        0.9           0.0   Hoalid Regragui          Romain Saïss  ...   \n",
       "..       ...           ...               ...                   ...  ...   \n",
       "959      NaN           0.0  Francisco Olazar       Manuel Ferreira  ...   \n",
       "960      NaN           0.0   Bosko Simonovic       Milutin Ivković  ...   \n",
       "961      NaN           0.0     Octav Luchide          Emerich Vogl  ...   \n",
       "962      NaN           0.0        Bob Millar            Tom Florie  ...   \n",
       "963      NaN           0.0     Raoul Caudron  Alexandre Villaplane  ...   \n",
       "\n",
       "    home_penalty_shootout_miss_long  \\\n",
       "0                               NaN   \n",
       "1                               NaN   \n",
       "2                               NaN   \n",
       "3                               NaN   \n",
       "4                               NaN   \n",
       "..                              ...   \n",
       "959                             NaN   \n",
       "960                             NaN   \n",
       "961                             NaN   \n",
       "962                             NaN   \n",
       "963                             NaN   \n",
       "\n",
       "                       away_penalty_shootout_miss_long  home_red_card  \\\n",
       "0    ['3|1:1|Kingsley Coman', '5|2:1|Aurélien Tchou...            NaN   \n",
       "1                                                  NaN            NaN   \n",
       "2                                                  NaN            NaN   \n",
       "3                                                  NaN            NaN   \n",
       "4                                                  NaN            NaN   \n",
       "..                                                 ...            ...   \n",
       "959                                                NaN            NaN   \n",
       "960                                                NaN            NaN   \n",
       "961                                                NaN            NaN   \n",
       "962                                                NaN            NaN   \n",
       "963                                                NaN            NaN   \n",
       "\n",
       "            away_red_card   home_yellow_red_card away_yellow_red_card  \\\n",
       "0                     NaN                    NaN                  NaN   \n",
       "1                     NaN                    NaN                  NaN   \n",
       "2                     NaN                    NaN                  NaN   \n",
       "3                     NaN                    NaN                  NaN   \n",
       "4                     NaN  Walid Cheddira · 90+3                  NaN   \n",
       "..                    ...                    ...                  ...   \n",
       "959                   NaN                    NaN                  NaN   \n",
       "960                   NaN                    NaN                  NaN   \n",
       "961  Plácido Galindo · 70                    NaN                  NaN   \n",
       "962                   NaN                    NaN                  NaN   \n",
       "963                   NaN                    NaN                  NaN   \n",
       "\n",
       "                                 home_yellow_card_long  \\\n",
       "0    ['45+7&rsquor;|2:0|Enzo Fernández', '90+8&rsqu...   \n",
       "1                                                  NaN   \n",
       "2                                                  NaN   \n",
       "3    ['68&rsquor;|2:0|Cristian Romero', '71&rsquor;...   \n",
       "4    ['70&rsquor;|1:0|Achraf Dari', '90+1&rsquor;|1...   \n",
       "..                                                 ...   \n",
       "959                                                NaN   \n",
       "960                                                NaN   \n",
       "961                                                NaN   \n",
       "962                                                NaN   \n",
       "963                                                NaN   \n",
       "\n",
       "                                 away_yellow_card_long  \\\n",
       "0    ['55&rsquor;|2:0|Adrien Rabiot', '87&rsquor;|2...   \n",
       "1    ['69&rsquor;|2:1|Azzedine Ounahi', '84&rsquor;...   \n",
       "2                    ['27&rsquor;|1:0|Sofiane Boufal']   \n",
       "3    ['32&rsquor;|0:0|Mateo Kovačić', '32&rsquor;|0...   \n",
       "4                           ['87&rsquor;|1:0|Vitinha']   \n",
       "..                                                 ...   \n",
       "959                                                NaN   \n",
       "960                                                NaN   \n",
       "961                                                NaN   \n",
       "962                                                NaN   \n",
       "963                                                NaN   \n",
       "\n",
       "                               home_substitute_in_long  \\\n",
       "0    ['64&rsquor;|2:0|Marcos Acuña|for Ángel Di Mar...   \n",
       "1    ['61&rsquor;|2:1|Nikola Vlašić|for Andrej Kram...   \n",
       "2    ['65&rsquor;|1:0|Marcus Thuram|for Olivier Gir...   \n",
       "3    ['62&rsquor;|2:0|Lisandro Martínez|for Leandro...   \n",
       "4    ['57&rsquor;|1:0|Achraf Dari|for Romain Saïss'...   \n",
       "..                                                 ...   \n",
       "959                                                NaN   \n",
       "960                                                NaN   \n",
       "961                                                NaN   \n",
       "962                                                NaN   \n",
       "963                                                NaN   \n",
       "\n",
       "                               away_substitute_in_long  \n",
       "0    ['41&rsquor;|2:0|Randal Kolo Muani|for Ousmane...  \n",
       "1    ['46&rsquor;|2:1|Ilias Chair|for Abdelhamid Sa...  \n",
       "2    ['21&rsquor;|1:0|Selim Amallah|for Romain Saïs...  \n",
       "3    ['46&rsquor;|2:0|Mislav Oršić|for Borna Sosa',...  \n",
       "4    ['51&rsquor;|1:0|João Cancelo|for Raphaël Guer...  \n",
       "..                                                 ...  \n",
       "959                                                NaN  \n",
       "960                                                NaN  \n",
       "961                                                NaN  \n",
       "962                                                NaN  \n",
       "963                                                NaN  \n",
       "\n",
       "[964 rows x 44 columns]"
      ],
      "text/html": [
       "<div>\n",
       "<style scoped>\n",
       "    .dataframe tbody tr th:only-of-type {\n",
       "        vertical-align: middle;\n",
       "    }\n",
       "\n",
       "    .dataframe tbody tr th {\n",
       "        vertical-align: top;\n",
       "    }\n",
       "\n",
       "    .dataframe thead th {\n",
       "        text-align: right;\n",
       "    }\n",
       "</style>\n",
       "<table border=\"1\" class=\"dataframe\">\n",
       "  <thead>\n",
       "    <tr style=\"text-align: right;\">\n",
       "      <th></th>\n",
       "      <th>home_team</th>\n",
       "      <th>away_team</th>\n",
       "      <th>home_score</th>\n",
       "      <th>home_xg</th>\n",
       "      <th>home_penalty</th>\n",
       "      <th>away_score</th>\n",
       "      <th>away_xg</th>\n",
       "      <th>away_penalty</th>\n",
       "      <th>home_manager</th>\n",
       "      <th>home_captain</th>\n",
       "      <th>...</th>\n",
       "      <th>home_penalty_shootout_miss_long</th>\n",
       "      <th>away_penalty_shootout_miss_long</th>\n",
       "      <th>home_red_card</th>\n",
       "      <th>away_red_card</th>\n",
       "      <th>home_yellow_red_card</th>\n",
       "      <th>away_yellow_red_card</th>\n",
       "      <th>home_yellow_card_long</th>\n",
       "      <th>away_yellow_card_long</th>\n",
       "      <th>home_substitute_in_long</th>\n",
       "      <th>away_substitute_in_long</th>\n",
       "    </tr>\n",
       "  </thead>\n",
       "  <tbody>\n",
       "    <tr>\n",
       "      <th>0</th>\n",
       "      <td>Argentina</td>\n",
       "      <td>France</td>\n",
       "      <td>3</td>\n",
       "      <td>3.3</td>\n",
       "      <td>4.0</td>\n",
       "      <td>3</td>\n",
       "      <td>2.2</td>\n",
       "      <td>2.0</td>\n",
       "      <td>Lionel Scaloni</td>\n",
       "      <td>Lionel Messi</td>\n",
       "      <td>...</td>\n",
       "      <td>NaN</td>\n",
       "      <td>['3|1:1|Kingsley Coman', '5|2:1|Aurélien Tchou...</td>\n",
       "      <td>NaN</td>\n",
       "      <td>NaN</td>\n",
       "      <td>NaN</td>\n",
       "      <td>NaN</td>\n",
       "      <td>['45+7&amp;rsquor;|2:0|Enzo Fernández', '90+8&amp;rsqu...</td>\n",
       "      <td>['55&amp;rsquor;|2:0|Adrien Rabiot', '87&amp;rsquor;|2...</td>\n",
       "      <td>['64&amp;rsquor;|2:0|Marcos Acuña|for Ángel Di Mar...</td>\n",
       "      <td>['41&amp;rsquor;|2:0|Randal Kolo Muani|for Ousmane...</td>\n",
       "    </tr>\n",
       "    <tr>\n",
       "      <th>1</th>\n",
       "      <td>Croatia</td>\n",
       "      <td>Morocco</td>\n",
       "      <td>2</td>\n",
       "      <td>0.7</td>\n",
       "      <td>0.0</td>\n",
       "      <td>1</td>\n",
       "      <td>1.2</td>\n",
       "      <td>0.0</td>\n",
       "      <td>Zlatko Dalić</td>\n",
       "      <td>Luka Modrić</td>\n",
       "      <td>...</td>\n",
       "      <td>NaN</td>\n",
       "      <td>NaN</td>\n",
       "      <td>NaN</td>\n",
       "      <td>NaN</td>\n",
       "      <td>NaN</td>\n",
       "      <td>NaN</td>\n",
       "      <td>NaN</td>\n",
       "      <td>['69&amp;rsquor;|2:1|Azzedine Ounahi', '84&amp;rsquor;...</td>\n",
       "      <td>['61&amp;rsquor;|2:1|Nikola Vlašić|for Andrej Kram...</td>\n",
       "      <td>['46&amp;rsquor;|2:1|Ilias Chair|for Abdelhamid Sa...</td>\n",
       "    </tr>\n",
       "    <tr>\n",
       "      <th>2</th>\n",
       "      <td>France</td>\n",
       "      <td>Morocco</td>\n",
       "      <td>2</td>\n",
       "      <td>2.0</td>\n",
       "      <td>0.0</td>\n",
       "      <td>0</td>\n",
       "      <td>0.9</td>\n",
       "      <td>0.0</td>\n",
       "      <td>Didier Deschamps</td>\n",
       "      <td>Hugo Lloris</td>\n",
       "      <td>...</td>\n",
       "      <td>NaN</td>\n",
       "      <td>NaN</td>\n",
       "      <td>NaN</td>\n",
       "      <td>NaN</td>\n",
       "      <td>NaN</td>\n",
       "      <td>NaN</td>\n",
       "      <td>NaN</td>\n",
       "      <td>['27&amp;rsquor;|1:0|Sofiane Boufal']</td>\n",
       "      <td>['65&amp;rsquor;|1:0|Marcus Thuram|for Olivier Gir...</td>\n",
       "      <td>['21&amp;rsquor;|1:0|Selim Amallah|for Romain Saïs...</td>\n",
       "    </tr>\n",
       "    <tr>\n",
       "      <th>3</th>\n",
       "      <td>Argentina</td>\n",
       "      <td>Croatia</td>\n",
       "      <td>3</td>\n",
       "      <td>2.3</td>\n",
       "      <td>0.0</td>\n",
       "      <td>0</td>\n",
       "      <td>0.5</td>\n",
       "      <td>0.0</td>\n",
       "      <td>Lionel Scaloni</td>\n",
       "      <td>Lionel Messi</td>\n",
       "      <td>...</td>\n",
       "      <td>NaN</td>\n",
       "      <td>NaN</td>\n",
       "      <td>NaN</td>\n",
       "      <td>NaN</td>\n",
       "      <td>NaN</td>\n",
       "      <td>NaN</td>\n",
       "      <td>['68&amp;rsquor;|2:0|Cristian Romero', '71&amp;rsquor;...</td>\n",
       "      <td>['32&amp;rsquor;|0:0|Mateo Kovačić', '32&amp;rsquor;|0...</td>\n",
       "      <td>['62&amp;rsquor;|2:0|Lisandro Martínez|for Leandro...</td>\n",
       "      <td>['46&amp;rsquor;|2:0|Mislav Oršić|for Borna Sosa',...</td>\n",
       "    </tr>\n",
       "    <tr>\n",
       "      <th>4</th>\n",
       "      <td>Morocco</td>\n",
       "      <td>Portugal</td>\n",
       "      <td>1</td>\n",
       "      <td>1.4</td>\n",
       "      <td>0.0</td>\n",
       "      <td>0</td>\n",
       "      <td>0.9</td>\n",
       "      <td>0.0</td>\n",
       "      <td>Hoalid Regragui</td>\n",
       "      <td>Romain Saïss</td>\n",
       "      <td>...</td>\n",
       "      <td>NaN</td>\n",
       "      <td>NaN</td>\n",
       "      <td>NaN</td>\n",
       "      <td>NaN</td>\n",
       "      <td>Walid Cheddira · 90+3</td>\n",
       "      <td>NaN</td>\n",
       "      <td>['70&amp;rsquor;|1:0|Achraf Dari', '90+1&amp;rsquor;|1...</td>\n",
       "      <td>['87&amp;rsquor;|1:0|Vitinha']</td>\n",
       "      <td>['57&amp;rsquor;|1:0|Achraf Dari|for Romain Saïss'...</td>\n",
       "      <td>['51&amp;rsquor;|1:0|João Cancelo|for Raphaël Guer...</td>\n",
       "    </tr>\n",
       "    <tr>\n",
       "      <th>...</th>\n",
       "      <td>...</td>\n",
       "      <td>...</td>\n",
       "      <td>...</td>\n",
       "      <td>...</td>\n",
       "      <td>...</td>\n",
       "      <td>...</td>\n",
       "      <td>...</td>\n",
       "      <td>...</td>\n",
       "      <td>...</td>\n",
       "      <td>...</td>\n",
       "      <td>...</td>\n",
       "      <td>...</td>\n",
       "      <td>...</td>\n",
       "      <td>...</td>\n",
       "      <td>...</td>\n",
       "      <td>...</td>\n",
       "      <td>...</td>\n",
       "      <td>...</td>\n",
       "      <td>...</td>\n",
       "      <td>...</td>\n",
       "      <td>...</td>\n",
       "    </tr>\n",
       "    <tr>\n",
       "      <th>959</th>\n",
       "      <td>Argentina</td>\n",
       "      <td>France</td>\n",
       "      <td>1</td>\n",
       "      <td>NaN</td>\n",
       "      <td>0.0</td>\n",
       "      <td>0</td>\n",
       "      <td>NaN</td>\n",
       "      <td>0.0</td>\n",
       "      <td>Francisco Olazar</td>\n",
       "      <td>Manuel Ferreira</td>\n",
       "      <td>...</td>\n",
       "      <td>NaN</td>\n",
       "      <td>NaN</td>\n",
       "      <td>NaN</td>\n",
       "      <td>NaN</td>\n",
       "      <td>NaN</td>\n",
       "      <td>NaN</td>\n",
       "      <td>NaN</td>\n",
       "      <td>NaN</td>\n",
       "      <td>NaN</td>\n",
       "      <td>NaN</td>\n",
       "    </tr>\n",
       "    <tr>\n",
       "      <th>960</th>\n",
       "      <td>Yugoslavia</td>\n",
       "      <td>Brazil</td>\n",
       "      <td>2</td>\n",
       "      <td>NaN</td>\n",
       "      <td>0.0</td>\n",
       "      <td>1</td>\n",
       "      <td>NaN</td>\n",
       "      <td>0.0</td>\n",
       "      <td>Bosko Simonovic</td>\n",
       "      <td>Milutin Ivković</td>\n",
       "      <td>...</td>\n",
       "      <td>NaN</td>\n",
       "      <td>NaN</td>\n",
       "      <td>NaN</td>\n",
       "      <td>NaN</td>\n",
       "      <td>NaN</td>\n",
       "      <td>NaN</td>\n",
       "      <td>NaN</td>\n",
       "      <td>NaN</td>\n",
       "      <td>NaN</td>\n",
       "      <td>NaN</td>\n",
       "    </tr>\n",
       "    <tr>\n",
       "      <th>961</th>\n",
       "      <td>Romania</td>\n",
       "      <td>Peru</td>\n",
       "      <td>3</td>\n",
       "      <td>NaN</td>\n",
       "      <td>0.0</td>\n",
       "      <td>1</td>\n",
       "      <td>NaN</td>\n",
       "      <td>0.0</td>\n",
       "      <td>Octav Luchide</td>\n",
       "      <td>Emerich Vogl</td>\n",
       "      <td>...</td>\n",
       "      <td>NaN</td>\n",
       "      <td>NaN</td>\n",
       "      <td>NaN</td>\n",
       "      <td>Plácido Galindo · 70</td>\n",
       "      <td>NaN</td>\n",
       "      <td>NaN</td>\n",
       "      <td>NaN</td>\n",
       "      <td>NaN</td>\n",
       "      <td>NaN</td>\n",
       "      <td>NaN</td>\n",
       "    </tr>\n",
       "    <tr>\n",
       "      <th>962</th>\n",
       "      <td>United States</td>\n",
       "      <td>Belgium</td>\n",
       "      <td>3</td>\n",
       "      <td>NaN</td>\n",
       "      <td>0.0</td>\n",
       "      <td>0</td>\n",
       "      <td>NaN</td>\n",
       "      <td>0.0</td>\n",
       "      <td>Bob Millar</td>\n",
       "      <td>Tom Florie</td>\n",
       "      <td>...</td>\n",
       "      <td>NaN</td>\n",
       "      <td>NaN</td>\n",
       "      <td>NaN</td>\n",
       "      <td>NaN</td>\n",
       "      <td>NaN</td>\n",
       "      <td>NaN</td>\n",
       "      <td>NaN</td>\n",
       "      <td>NaN</td>\n",
       "      <td>NaN</td>\n",
       "      <td>NaN</td>\n",
       "    </tr>\n",
       "    <tr>\n",
       "      <th>963</th>\n",
       "      <td>France</td>\n",
       "      <td>Mexico</td>\n",
       "      <td>4</td>\n",
       "      <td>NaN</td>\n",
       "      <td>0.0</td>\n",
       "      <td>1</td>\n",
       "      <td>NaN</td>\n",
       "      <td>0.0</td>\n",
       "      <td>Raoul Caudron</td>\n",
       "      <td>Alexandre Villaplane</td>\n",
       "      <td>...</td>\n",
       "      <td>NaN</td>\n",
       "      <td>NaN</td>\n",
       "      <td>NaN</td>\n",
       "      <td>NaN</td>\n",
       "      <td>NaN</td>\n",
       "      <td>NaN</td>\n",
       "      <td>NaN</td>\n",
       "      <td>NaN</td>\n",
       "      <td>NaN</td>\n",
       "      <td>NaN</td>\n",
       "    </tr>\n",
       "  </tbody>\n",
       "</table>\n",
       "<p>964 rows × 44 columns</p>\n",
       "</div>"
      ]
     },
     "execution_count": 59,
     "metadata": {},
     "output_type": "execute_result"
    }
   ],
   "execution_count": 59
  },
  {
   "metadata": {
    "ExecuteTime": {
     "end_time": "2024-08-05T13:39:11.234747Z",
     "start_time": "2024-08-05T13:39:11.227708Z"
    }
   },
   "cell_type": "code",
   "source": "",
   "outputs": [
    {
     "data": {
      "text/plain": [
       "home_team                            0\n",
       "away_team                            0\n",
       "home_score                           0\n",
       "home_xg                            836\n",
       "home_penalty                         0\n",
       "away_score                           0\n",
       "away_xg                            836\n",
       "away_penalty                         0\n",
       "home_manager                         0\n",
       "home_captain                       320\n",
       "away_manager                         0\n",
       "away_captain                       320\n",
       "Attendance                           0\n",
       "Venue                                0\n",
       "Officials                          255\n",
       "Round                                0\n",
       "Date                                 0\n",
       "Score                                0\n",
       "Referee                            255\n",
       "Notes                              891\n",
       "Host                                 0\n",
       "Year                                 0\n",
       "home_goal                          246\n",
       "away_goal                          393\n",
       "home_goal_long                     246\n",
       "away_goal_long                     393\n",
       "home_own_goal                      925\n",
       "away_own_goal                      947\n",
       "home_penalty_goal                  848\n",
       "away_penalty_goal                  880\n",
       "home_penalty_miss_long             958\n",
       "away_penalty_miss_long             955\n",
       "home_penalty_shootout_goal_long    930\n",
       "away_penalty_shootout_goal_long    930\n",
       "home_penalty_shootout_miss_long    940\n",
       "away_penalty_shootout_miss_long    934\n",
       "home_red_card                      913\n",
       "away_red_card                      910\n",
       "home_yellow_red_card               941\n",
       "away_yellow_red_card               933\n",
       "home_yellow_card_long              343\n",
       "away_yellow_card_long              337\n",
       "home_substitute_in_long            224\n",
       "away_substitute_in_long            217\n",
       "dtype: int64"
      ]
     },
     "execution_count": 63,
     "metadata": {},
     "output_type": "execute_result"
    }
   ],
   "execution_count": 63
  },
  {
   "metadata": {},
   "cell_type": "code",
   "outputs": [],
   "execution_count": null,
   "source": ""
  }
 ],
 "metadata": {
  "kernelspec": {
   "display_name": "Python 3",
   "language": "python",
   "name": "python3"
  },
  "language_info": {
   "codemirror_mode": {
    "name": "ipython",
    "version": 3
   },
   "file_extension": ".py",
   "mimetype": "text/x-python",
   "name": "python",
   "nbconvert_exporter": "python",
   "pygments_lexer": "ipython3",
   "version": "3.10.14"
  }
 },
 "nbformat": 4,
 "nbformat_minor": 2
}
